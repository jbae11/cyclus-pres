{
 "cells": [
  {
   "cell_type": "code",
   "execution_count": 6,
   "metadata": {},
   "outputs": [],
   "source": [
    "import os\n",
    "import sys\n",
    "import mysql.connector"
   ]
  },
  {
   "cell_type": "code",
   "execution_count": 7,
   "metadata": {},
   "outputs": [],
   "source": [
    "database_name = 'trans'\n",
    "threshold = 1e-6\n",
    "\n",
    "# connect to mysql server and get cursor\n",
    "cnx = mysql.connector.connect(user='root', password='password',\n",
    "                              host='127.0.0.1', database=database_name)\n",
    "cursor = cnx.cursor(buffered=True)"
   ]
  },
  {
   "cell_type": "code",
   "execution_count": 27,
   "metadata": {},
   "outputs": [
    {
     "name": "stdout",
     "output_type": "stream",
     "text": [
      "Pu Composition in fresh FR fuel: 15.262677 %\n",
      "U Composition in fresh FR fuel: 84.737323 %\n"
     ]
    }
   ],
   "source": [
    "# get pu content in eg23 fresh fuel\n",
    "cursor.execute('SELECT isotope, mass_g FROM trans.iso_charge2 WHERE '\n",
    "               'calculation_name = \"EG23\"')\n",
    "total_mass = 0\n",
    "pu_mass = 0\n",
    "for isotope, mass_g in cursor:\n",
    "    total_mass += mass_g\n",
    "    if 'Pu' in isotope:\n",
    "        pu_mass += mass_g\n",
    "\n",
    "pu_comp_fresh = pu_mass / total_mass\n",
    "u_comp_fresh = 1 - pu_comp_fresh\n",
    "        \n",
    "print('Pu Composition in fresh FR fuel: %f ' %(pu_comp_fresh * 100) + '%')\n",
    "print('U Composition in fresh FR fuel: %f ' %(u_comp_fresh * 100) + '%')"
   ]
  },
  {
   "cell_type": "code",
   "execution_count": 28,
   "metadata": {},
   "outputs": [
    {
     "name": "stdout",
     "output_type": "stream",
     "text": [
      "Pu Composition in used FR fuel: 14.592971 %\n",
      "U Composition in used FR fuel: 76.898415%\n"
     ]
    }
   ],
   "source": [
    "# get pu content in eg23 used fuel\n",
    "cursor.execute('SELECT isotope, mass_g FROM trans.iso_discharge2 WHERE '\n",
    "               'calculation_name = \"EG23\"')\n",
    "total_mass = 0\n",
    "pu_mass = 0\n",
    "u_mass = 0\n",
    "for isotope, mass_g in cursor:\n",
    "    total_mass += mass_g\n",
    "    if 'Pu' in isotope:\n",
    "        pu_mass += mass_g\n",
    "    if 'U' in isotope:\n",
    "        u_mass += mass_g\n",
    "\n",
    "pu_comp_used = pu_mass / total_mass\n",
    "u_comp_used = u_mass / total_mass\n",
    "        \n",
    "print('Pu Composition in used FR fuel: %f ' %(pu_comp_used * 100) + '%')\n",
    "print('U Composition in used FR fuel: %f' %(u_comp_used * 100) + '%')"
   ]
  },
  {
   "cell_type": "code",
   "execution_count": 30,
   "metadata": {},
   "outputs": [
    {
     "name": "stdout",
     "output_type": "stream",
     "text": [
      "0.9561213447481912\n"
     ]
    }
   ],
   "source": [
    "# Plutonium breeding ratio is less than one:\n",
    "br = pu_comp_used / pu_comp_fresh\n",
    "print(br)"
   ]
  },
  {
   "cell_type": "code",
   "execution_count": null,
   "metadata": {},
   "outputs": [],
   "source": []
  }
 ],
 "metadata": {
  "kernelspec": {
   "display_name": "Python 3",
   "language": "python",
   "name": "python3"
  },
  "language_info": {
   "codemirror_mode": {
    "name": "ipython",
    "version": 3
   },
   "file_extension": ".py",
   "mimetype": "text/x-python",
   "name": "python",
   "nbconvert_exporter": "python",
   "pygments_lexer": "ipython3",
   "version": "3.6.4"
  }
 },
 "nbformat": 4,
 "nbformat_minor": 2
}
