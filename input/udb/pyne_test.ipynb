{
 "cells": [
  {
   "cell_type": "code",
   "execution_count": 9,
   "metadata": {},
   "outputs": [],
   "source": [
    "from pyne.material import Material"
   ]
  },
  {
   "cell_type": "code",
   "execution_count": 10,
   "metadata": {},
   "outputs": [
    {
     "name": "stdout",
     "output_type": "stream",
     "text": [
      "{471100001: 2593526737465.7144}\n"
     ]
    }
   ],
   "source": [
    "meta = Material({471100001: 1000})\n",
    "print(meta.decay_heat())"
   ]
  },
  {
   "cell_type": "code",
   "execution_count": 24,
   "metadata": {},
   "outputs": [
    {
     "name": "stdout",
     "output_type": "stream",
     "text": [
      "AFTER 0.317098 YEARS:\n",
      "{471080001: 521593847916392.56}\n",
      "AFTER 0.634196 YEARS:\n",
      "{471080001: 521070979907513.2}\n",
      "AFTER 0.951294 YEARS:\n",
      "{471080001: 520287660502382.44}\n",
      "AFTER 1.268392 YEARS:\n",
      "{471080001: 519245066073724.1}\n",
      "AFTER 1.585490 YEARS:\n",
      "{471080001: 517944760533692.0}\n",
      "AFTER 1.902588 YEARS:\n",
      "{471080001: 516388691424700.94}\n",
      "AFTER 2.219685 YEARS:\n",
      "{471080001: 514579185058693.25}\n",
      "AFTER 2.536783 YEARS:\n",
      "{471080001: 512518940721820.25}\n",
      "AFTER 2.853881 YEARS:\n",
      "{471080001: 510211023964750.06}\n"
     ]
    }
   ],
   "source": [
    "# this is normal\n",
    "time = 0\n",
    "for i in range(1, 10):\n",
    "    time += 10000000\n",
    "    meta = meta.decay(time)\n",
    "    heat = meta.decay_heat()\n",
    "    years = time / (3600 * 24 * 365)\n",
    "    print(\"AFTER %f YEARS:\" %years)\n",
    "    print(heat)"
   ]
  },
  {
   "cell_type": "code",
   "execution_count": 25,
   "metadata": {},
   "outputs": [
    {
     "name": "stdout",
     "output_type": "stream",
     "text": [
      "{471080001: 844974163698331.6}\n"
     ]
    }
   ],
   "source": [
    "meta = Material({471080001: 1000})\n",
    "print(meta.decay_heat())"
   ]
  },
  {
   "cell_type": "code",
   "execution_count": 28,
   "metadata": {},
   "outputs": [
    {
     "name": "stdout",
     "output_type": "stream",
     "text": [
      "Decay heat after 3.170979 years:\t 667549693347517.250000 MW\n",
      "Decay heat after 6.341958 years:\t 660887995488666.000000 MW\n",
      "Decay heat after 9.512938 years:\t 651019889759747.750000 MW\n",
      "Decay heat after 12.683917 years:\t 638091239850481.250000 MW\n",
      "Decay heat after 15.854896 years:\t 622290883755772.375000 MW\n",
      "Decay heat after 19.025875 years:\t 603846045612789.000000 MW\n",
      "Decay heat after 22.196854 years:\t 583016902340576.750000 MW\n",
      "Decay heat after 25.367834 years:\t 560090486539152.375000 MW\n",
      "Decay heat after 28.538813 years:\t 535374125021394.625000 MW\n"
     ]
    }
   ],
   "source": [
    "time = 0\n",
    "for i in range(1, 10):\n",
    "    time += 100000000\n",
    "    meta = meta.decay(time)\n",
    "    heat = meta.decay_heat()[471080001]\n",
    "    years = time / (3600 * 24 * 365)\n",
    "    print('Decay heat after %f years:\\t %f MW' %(years, heat))"
   ]
  },
  {
   "cell_type": "code",
   "execution_count": null,
   "metadata": {},
   "outputs": [],
   "source": []
  },
  {
   "cell_type": "code",
   "execution_count": null,
   "metadata": {},
   "outputs": [],
   "source": []
  },
  {
   "cell_type": "code",
   "execution_count": null,
   "metadata": {},
   "outputs": [],
   "source": []
  }
 ],
 "metadata": {
  "kernelspec": {
   "display_name": "Python 3",
   "language": "python",
   "name": "python3"
  }
 },
 "nbformat": 4,
 "nbformat_minor": 2
}
