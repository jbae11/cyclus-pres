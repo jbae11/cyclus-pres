{
 "cells": [
  {
   "cell_type": "code",
   "execution_count": 70,
   "metadata": {},
   "outputs": [],
   "source": [
    "from pyne.material import Material"
   ]
  },
  {
   "cell_type": "code",
   "execution_count": 71,
   "metadata": {},
   "outputs": [
    {
     "name": "stdout",
     "output_type": "stream",
     "text": [
      "{471100001: 2593526737465.7144}\n"
     ]
    }
   ],
   "source": [
    "meta = Material({471100001: 1000})\n",
    "print(meta.decay_heat())"
   ]
  },
  {
   "cell_type": "code",
   "execution_count": 72,
   "metadata": {},
   "outputs": [
    {
     "name": "stdout",
     "output_type": "stream",
     "text": [
      "{471100001: 104540605307.398}\n",
      "{471100001: 4213852126.58971}\n",
      "{471100001: 169853136.89883566}\n",
      "{471100001: 6846488.022759146}\n",
      "{471100001: 275970.1651768892}\n",
      "{471100001: 11123.883049906672}\n",
      "{471100001: 448.3846071863839}\n",
      "{471100001: 18.073612879575762}\n",
      "{471100001: 0.7285162721586991}\n"
     ]
    }
   ],
   "source": [
    "for i in range(1, 10):\n",
    "    meta = meta.decay(100000000)\n",
    "    print(meta.decay_heat())"
   ]
  },
  {
   "cell_type": "code",
   "execution_count": 73,
   "metadata": {},
   "outputs": [
    {
     "name": "stdout",
     "output_type": "stream",
     "text": [
      "{471080001: 844974163698331.6}\n"
     ]
    }
   ],
   "source": [
    "meta = Material({471080001: 1000})\n",
    "print(meta.decay_heat())"
   ]
  },
  {
   "cell_type": "code",
   "execution_count": 74,
   "metadata": {},
   "outputs": [
    {
     "name": "stdout",
     "output_type": "stream",
     "text": [
      "{471080001: 840747454839103.1}\n",
      "{471080001: 836541888718372.8}\n",
      "{471080001: 832357359576456.8}\n",
      "{471080001: 828193762182700.4}\n",
      "{471080001: 824050991832830.8}\n",
      "{471080001: 819928944346324.1}\n",
      "{471080001: 815827516063785.6}\n",
      "{471080001: 811746603844343.8}\n",
      "{471080001: 807686105063054.9}\n"
     ]
    }
   ],
   "source": [
    "for i in range(1, 10):\n",
    "    meta = meta.decay(100000000)\n",
    "    print(meta.decay_heat())"
   ]
  },
  {
   "cell_type": "code",
   "execution_count": null,
   "metadata": {},
   "outputs": [],
   "source": []
  }
 ],
 "metadata": {
  "kernelspec": {
   "display_name": "Python 3",
   "language": "python",
   "name": "python3"
  },
  "language_info": {
   "codemirror_mode": {
    "name": "ipython",
    "version": 3
   },
   "file_extension": ".py",
   "mimetype": "text/x-python",
   "name": "python",
   "nbconvert_exporter": "python",
   "pygments_lexer": "ipython3",
   "version": "3.6.4"
  }
 },
 "nbformat": 4,
 "nbformat_minor": 2
}
