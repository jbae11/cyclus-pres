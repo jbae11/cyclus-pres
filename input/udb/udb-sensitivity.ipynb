{
 "cells": [
  {
   "cell_type": "code",
   "execution_count": 27,
   "metadata": {},
   "outputs": [
    {
     "name": "stderr",
     "output_type": "stream",
     "text": [
      "/Users/13b/anaconda3/lib/python3.6/importlib/_bootstrap.py:219: QAWarning: pyne.data is not yet QA compliant.\n",
      "  return f(*args, **kwds)\n",
      "/Users/13b/anaconda3/lib/python3.6/importlib/_bootstrap.py:219: QAWarning: pyne.material is not yet QA compliant.\n",
      "  return f(*args, **kwds)\n"
     ]
    }
   ],
   "source": [
    "import numpy as np\n",
    "import matplotlib.pyplot as plt\n",
    "import sqlite3 as lite\n",
    "import sys\n",
    "from pyne import nucname\n",
    "from pyne.material import Material"
   ]
  },
  {
   "cell_type": "code",
   "execution_count": 28,
   "metadata": {},
   "outputs": [],
   "source": [
    "# get sqlite cursor\n",
    "filename = '../../db/1yr.sqlite'\n",
    "con = lite.connect(filename)\n",
    "# allows indexing with column name\n",
    "con.row_factory = lite.Row\n",
    "cur = con.cursor()"
   ]
  },
  {
   "cell_type": "markdown",
   "metadata": {},
   "source": [
    "# Finding the Average Assembly and its Composition "
   ]
  },
  {
   "cell_type": "code",
   "execution_count": 33,
   "metadata": {},
   "outputs": [
    {
     "name": "stdout",
     "output_type": "stream",
     "text": [
      "AVG BURNUP: 36169.381303 MWD/MTHM \n",
      "AVG ENRICHMENT: 3.392045 wt% U235\n"
     ]
    }
   ],
   "source": [
    "# first, find the average composition and recipe \n",
    "average_burnup = cur.execute('SELECT avg(discharge_burnup) FROM discharge').fetchone()[0]\n",
    "average_enrichment = cur.execute('SELECT avg(initial_enrichment) FROM discharge').fetchone()[0]\n",
    "print('AVG BURNUP: %f MWD/MTHM \\nAVG ENRICHMENT: %f wt%% U235' %(average_burnup, average_enrichment))"
   ]
  },
  {
   "cell_type": "code",
   "execution_count": 34,
   "metadata": {},
   "outputs": [
    {
     "name": "stdout",
     "output_type": "stream",
     "text": [
      "324192\n"
     ]
    }
   ],
   "source": [
    "# find assembly closest to this value:\n",
    "min_diff_assem_id = cur.execute('SELECT assembly_id, min(abs(discharge_burnup - %f) + abs(initial_enrichment - %f)* 10000) '\n",
    "                                'FROM discharge' %(average_burnup, average_enrichment)).fetchone()[0]\n",
    "print(min_diff_assem_id)"
   ]
  },
  {
   "cell_type": "code",
   "execution_count": 35,
   "metadata": {},
   "outputs": [
    {
     "name": "stdout",
     "output_type": "stream",
     "text": [
      "ERROR:\n",
      "ENRICHMENT: -0.057637 % \n",
      "BURNUP -0.007240 %\n"
     ]
    }
   ],
   "source": [
    "# how different is this assembly from the average?\n",
    "chosen_assem = cur.execute('SELECT * FROM discharge WHERE assembly_id = %i' %min_diff_assem_id).fetchall()\n",
    "burnup = chosen_assem[0]['discharge_burnup']\n",
    "enrichment = chosen_assem[0]['initial_enrichment']\n",
    "\n",
    "# print error with the average value:\n",
    "print('ERROR:')\n",
    "enr_err = 100 * (average_enrichment - enrichment) / average_enrichment\n",
    "bur_err = 100 * (average_burnup - burnup) / average_burnup\n",
    "print('ENRICHMENT: %f %% \\nBURNUP %f %%' %(enr_err, bur_err))"
   ]
  },
  {
   "cell_type": "code",
   "execution_count": null,
   "metadata": {},
   "outputs": [],
   "source": [
    "# save this assembly's composition to a dictionary\n",
    "recipe = {}\n",
    "total_mass = 0\n",
    "for row in chosen_assem:\n",
    "    isotope = nucname.name(row['isotope'])\n",
    "    mass = float(row['total_mass_g'])\n",
    "    total_mass += mass\n",
    "    recipe[isotope] = mass\n",
    "\n",
    "# normalize values:\n",
    "for iso in recipe:\n",
    "    recipe[iso] = recipe[iso] / total_mass\n",
    "\n",
    "print(recipe)"
   ]
  },
  {
   "cell_type": "markdown",
   "metadata": {},
   "source": [
    "# We store all the assemblies in a dictionary, one with the composition with UNF-ST&DARDS, and the other with recipe composition"
   ]
  },
  {
   "cell_type": "code",
   "execution_count": 38,
   "metadata": {},
   "outputs": [],
   "source": [
    "def get_assembly_evaluation_times(cur):\n",
    "    \"\"\" gets assembly evaluation times. \"\"\"\n",
    "    assem_dict = {}\n",
    "    id_and_date = cur.execute('SELECT distinct(assembly_id), evaluation_date FROM discharge').fetchall()\n",
    "    for row in id_and_date:\n",
    "        assem_dict[row['assembly_id']] = {'date': row['evaluation_date']}\n",
    "    return assem_dict"
   ]
  },
  {
   "cell_type": "code",
   "execution_count": 24,
   "metadata": {},
   "outputs": [],
   "source": [
    "def attach_comp_mass(cur, assem_dict):\n",
    "    for key, value in assem_dict.items():\n",
    "        assem_id = key\n",
    "        comp_query = cur.execute('SELECT isotope, total_mass_g FROM discharge '\n",
    "                                 'WHERE assembly_id = %s' %assem_id).fetchall()\n",
    "        total_mass = 0\n",
    "        # initialize key comp\n",
    "        assem_dict[key]['comp'] = {}\n",
    "        \n",
    "        # save composition into comp key\n",
    "        for row in comp_query:\n",
    "            nuclide_name = nucname.name(row['isotope'])\n",
    "            mass = float(row['total_mass_g']) \n",
    "            total_mass += mass\n",
    "            assem_dict[key]['comp'][nuclide_name] = mass\n",
    "        # add mass key / val\n",
    "        assem_dict[key]['mass'] = total_mass\n",
    "        # normalize values\n",
    "        for iso in assem_dict[key]['comp']:\n",
    "            assem_dict[key]['comp'][iso] = assem_dict[key]['comp'][iso] / total_mass\n",
    "    return assem_dict"
   ]
  },
  {
   "cell_type": "code",
   "execution_count": 45,
   "metadata": {},
   "outputs": [],
   "source": [
    "def get_assembly_dict(cur):\n",
    "    \"\"\" gets assembly evalution times, isotope, total_mass_g and total mass\"\"\"\n",
    "    assem_dict = {}\n",
    "    query = cur.execute('SELECT * FROM discharge').fetchall()\n",
    "    count = 0\n",
    "    percent_done = 0\n",
    "    for row in query:\n",
    "        iso = nucname.name(row['isotope'])\n",
    "        mass = float(row['total_mass_g'])\n",
    "        if row['assembly_id'] not in assem_dict.keys():\n",
    "            # first of the assembly input data, initialize assem_dict[assembly_id] dict\n",
    "            assem_dict[row['assembly_id']] = {'date': row['evaluation_date']}\n",
    "            assem_dict[row['assembly_id']]['mass'] = 0\n",
    "            assem_dict[row['assembly_id']]['comp'] = {iso: mass}\n",
    "        else:\n",
    "            assem_dict[row['assembly_id']]['comp'][iso] = mass\n",
    "            assem_dict[row['assembly_id']]['mass'] += mass\n",
    "        count += 1\n",
    "        if len(query) // 50 == count:\n",
    "            percent_done += 2\n",
    "            print('%s %% DONE' %percent_done)\n",
    "    return assem_dict"
   ]
  },
  {
   "cell_type": "code",
   "execution_count": 46,
   "metadata": {},
   "outputs": [],
   "source": [
    "def convert_to_recipe(assem_dict, recipe):\n",
    "    recipe_dict = assem_dict.copy()\n",
    "    if sum(recipe.values()) < 0.99 or sum(recipe.values()) > 1.001:\n",
    "        raise ValueError('This aint normalized son')\n",
    "    for key, value in recipe_dict.items():\n",
    "        recipe_dict[key]['comp'] = recipe\n",
    "    return recipe_dict"
   ]
  },
  {
   "cell_type": "code",
   "execution_count": null,
   "metadata": {},
   "outputs": [],
   "source": [
    "# this takes a while:\n",
    "assem_dict = get_assembly_dict(cur)"
   ]
  },
  {
   "cell_type": "code",
   "execution_count": null,
   "metadata": {},
   "outputs": [],
   "source": [
    "recipe_dict = convert_to_recipe(assem_dict)"
   ]
  },
  {
   "cell_type": "markdown",
   "metadata": {},
   "source": [
    "# Then we convert the assembly to `pyne` material, for decay and analysis"
   ]
  },
  {
   "cell_type": "code",
   "execution_count": null,
   "metadata": {},
   "outputs": [],
   "source": [
    "def attach_pyne_material(assem_dict):\n",
    "    for key, value in assem_dict.items():\n",
    "        pyne_mat = Material(value['comp'], value['mass'])\n",
    "        assem_dict[key]['mat'] = pyne_mat"
   ]
  },
  {
   "cell_type": "code",
   "execution_count": null,
   "metadata": {},
   "outputs": [],
   "source": [
    "assem_dict = attach_pyne_material(assem_dict)\n",
    "recipe_dict = attach_pyne_material(recipe_dict)"
   ]
  },
  {
   "cell_type": "markdown",
   "metadata": {},
   "source": [
    "# Then we decay the assemblies to 2020:"
   ]
  },
  {
   "cell_type": "code",
   "execution_count": null,
   "metadata": {},
   "outputs": [],
   "source": [
    "def find_diff_time_secs(year, month, day, evaluation_date):\n",
    "    # the UNF-ST&DARDS data format is YYYY-MM-DD\n",
    "    ev_year = int(evaluation_date[:4])\n",
    "    ev_month = int(evaluation_date[5:7])\n",
    "    ev_day = int(evaluation_date[8:])\n",
    "    \n",
    "    dyear = 0\n",
    "    dmonth = 0\n",
    "    dday = day - ev_day\n",
    "    if dday < 0:\n",
    "        dmonth -= 1\n",
    "        dday += 30\n",
    "    dmonth += month - ev_month\n",
    "    if dmonth < 0:\n",
    "        dyear -= 1\n",
    "        dmonth += 12\n",
    "    dyear += year - ev_year\n",
    "    if dyear < 0:\n",
    "        raise ValueError('Cannot go back in time man')\n",
    "    \n",
    "    time_in_sec = dyear * (365 * 30 * 24 * 3600) + dmonth * (30 * 24 * 3600) + dday * (25 * 3600)\n",
    "    return time_in_sec"
   ]
  },
  {
   "cell_type": "code",
   "execution_count": null,
   "metadata": {},
   "outputs": [],
   "source": [
    "def decay_assemblies(assem_dict):\n",
    "    decayed_dict = assem_dict.copy()\n",
    "    for key, value in assem_dict.items():\n",
    "        # to 2020-07-01\n",
    "        decay_time = find_diff_time_secs(2020, 7, 1, assem_dict[key]['date'])\n",
    "        assem_dict[key]['mat'] = assem_dict[key]['mat'].decay(decay_time)\n",
    "    return assem_dict"
   ]
  },
  {
   "cell_type": "code",
   "execution_count": null,
   "metadata": {},
   "outputs": [],
   "source": [
    "2020_assem_dict = decay_assemblies(assem_dict)\n",
    "2020_recipe_dict = decay_assemblies(recipe_dict)"
   ]
  },
  {
   "cell_type": "markdown",
   "metadata": {},
   "source": [
    "# For easier analysis, we collapse all the assemblies into one giant `pyne` material"
   ]
  },
  {
   "cell_type": "code",
   "execution_count": null,
   "metadata": {},
   "outputs": [],
   "source": [
    "def combine_material(assem_dict):\n",
    "    collapsed_mat = Material({'H1':1}, 1e-6)\n",
    "    for key, value in assem_dict.items():\n",
    "        decayed_material = assem_dict[key]['mat']\n",
    "        collapsed_mat = collapsed_mat + decayed_material\n",
    "    return collapsed_mat"
   ]
  },
  {
   "cell_type": "markdown",
   "metadata": {},
   "source": [
    "# Then we compare the metrics:"
   ]
  },
  {
   "cell_type": "code",
   "execution_count": null,
   "metadata": {},
   "outputs": [],
   "source": [
    "def decay_heat(assem_dict):\n",
    "    "
   ]
  }
 ],
 "metadata": {
  "kernelspec": {
   "display_name": "Python 3",
   "language": "python",
   "name": "python3"
  },
  "language_info": {
   "codemirror_mode": {
    "name": "ipython",
    "version": 3
   },
   "file_extension": ".py",
   "mimetype": "text/x-python",
   "name": "python",
   "nbconvert_exporter": "python",
   "pygments_lexer": "ipython3",
   "version": "3.6.4"
  }
 },
 "nbformat": 4,
 "nbformat_minor": 2
}
