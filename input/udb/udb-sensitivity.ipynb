{
 "cells": [
  {
   "cell_type": "code",
   "execution_count": 50,
   "metadata": {},
   "outputs": [],
   "source": [
    "import numpy as np\n",
    "import matplotlib.pyplot as plt\n",
    "import sqlite3 as lite\n",
    "import sys\n",
    "from pyne import nucname\n",
    "from pyne.material import Material"
   ]
  },
  {
   "cell_type": "code",
   "execution_count": 51,
   "metadata": {},
   "outputs": [],
   "source": [
    "# get sqlite cursor\n",
    "filename = '../../db/1yr.sqlite'\n",
    "con = lite.connect(filename)\n",
    "# allows indexing with column name\n",
    "con.row_factory = lite.Row\n",
    "cur = con.cursor()"
   ]
  },
  {
   "cell_type": "markdown",
   "metadata": {},
   "source": [
    "# Finding the Average Assembly and its Composition "
   ]
  },
  {
   "cell_type": "code",
   "execution_count": 52,
   "metadata": {},
   "outputs": [
    {
     "name": "stdout",
     "output_type": "stream",
     "text": [
      "AVG BURNUP: 36169.381303 MWD/MTHM \n",
      "AVG ENRICHMENT: 3.392045 wt% U235\n"
     ]
    }
   ],
   "source": [
    "# first, find the average composition and recipe \n",
    "average_burnup = cur.execute('SELECT avg(discharge_burnup) FROM discharge').fetchone()[0]\n",
    "average_enrichment = cur.execute('SELECT avg(initial_enrichment) FROM discharge').fetchone()[0]\n",
    "print('AVG BURNUP: %f MWD/MTHM \\nAVG ENRICHMENT: %f wt%% U235' %(average_burnup, average_enrichment))"
   ]
  },
  {
   "cell_type": "code",
   "execution_count": 53,
   "metadata": {},
   "outputs": [
    {
     "name": "stdout",
     "output_type": "stream",
     "text": [
      "324192\n"
     ]
    }
   ],
   "source": [
    "# find assembly closest to this value:\n",
    "min_diff_assem_id = cur.execute('SELECT assembly_id, min(abs(discharge_burnup - %f) + abs(initial_enrichment - %f)* 10000) '\n",
    "                                'FROM discharge' %(average_burnup, average_enrichment)).fetchone()[0]\n",
    "print(min_diff_assem_id)"
   ]
  },
  {
   "cell_type": "code",
   "execution_count": 54,
   "metadata": {},
   "outputs": [
    {
     "name": "stdout",
     "output_type": "stream",
     "text": [
      "ERROR:\n",
      "ENRICHMENT: -0.057637 % \n",
      "BURNUP -0.007240 %\n"
     ]
    }
   ],
   "source": [
    "# how different is this assembly from the average?\n",
    "chosen_assem = cur.execute('SELECT * FROM discharge WHERE assembly_id = %i' %min_diff_assem_id).fetchall()\n",
    "burnup = chosen_assem[0]['discharge_burnup']\n",
    "enrichment = chosen_assem[0]['initial_enrichment']\n",
    "\n",
    "# print error with the average value:\n",
    "print('ERROR:')\n",
    "enr_err = 100 * (average_enrichment - enrichment) / average_enrichment\n",
    "bur_err = 100 * (average_burnup - burnup) / average_burnup\n",
    "print('ENRICHMENT: %f %% \\nBURNUP %f %%' %(enr_err, bur_err))"
   ]
  },
  {
   "cell_type": "code",
   "execution_count": 55,
   "metadata": {},
   "outputs": [
    {
     "name": "stdout",
     "output_type": "stream",
     "text": [
      "{'Th230': 2.2881648822788407e-09, 'Th229': 1.502397728890164e-12, 'U238': 0.9659536710780865, 'U236': 0.00446225291653653, 'Zr93': 0.00086882869395784, 'Y90': 1.399344800343854e-07, 'Zr95': 1.1033775398305739e-06, 'U233': 4.184255558015151e-09, 'U232': 1.3363535872468045e-09, 'Th232': 4.809822998684918e-09, 'U235': 0.010470484087559411, 'U234': 0.00017558666122790406, 'Pu239': 0.0075583971757774895, 'Pu240': 0.0026453112127050784, 'Pu241': 0.0017516126431537794, 'Pu242': 0.0005890043254259316, 'Ru106': 8.320559676392915e-05, 'Sb124': 7.666333242015148e-10, 'Se79': 5.187290380581019e-06, 'Sb125': 9.777386155736502e-06, 'Ru103': 6.284846250027464e-08, 'Ra226': 5.644397451435088e-14, 'Pu244': 3.979698533607694e-08, 'Sn126': 2.4386989892683627e-05, 'Sm151': 1.6099003097674687e-05, 'Tc99': 0.0008702073741377083, 'Sr90': 0.0005516566888687625, 'Am241': 0.00016437612619364937, 'Am242M': 1.2644116280326764e-06, 'C14': 1.0389150698193999e-07, 'Am243': 0.00015153847401387372, 'Cm242': 4.649744612683422e-06, 'Cf251': 6.994522146477329e-13, 'Cm244': 5.518804066614938e-05, 'Cm243': 5.554735062283529e-07, 'Cf249': 2.884747600426767e-12, 'Ce144': 0.00012001855070276737, 'Cm245': 4.067343952712264e-06, 'Cm246': 3.2195279641736746e-07, 'Cm247': 4.700129293508064e-09, 'Cs134': 0.0001048079920593317, 'Cm248': 3.2505001466509276e-10, 'Cs137': 0.0013212371993296926, 'Cs135': 0.0005700183373263415, 'Eu154': 3.1016264294351794e-05, 'Eu152': 2.1745154387506873e-08, 'Kr85': 2.969517797654335e-05, 'I129': 0.00018247792711683288, 'Nb94': 1.5996371023275288e-09, 'Np237': 0.000558652257282123, 'Nb95': 1.3015806167551582e-06, 'Eu155': 8.393504151543833e-06, 'H3': 5.8748377324519646e-08, 'Pa231': 5.912370991956375e-10, 'Pd107': 0.0002693162944002744, 'Pm147': 0.00014215530445261593, 'Pu238': 0.00024138405376573249, 'Ag108M': 2.3092241331607143e-10, 'Ag110M': 3.4368554807108287e-07, 'Ac227': 2.3499992550738343e-14}\n"
     ]
    }
   ],
   "source": [
    "# save this assembly's composition to a dictionary\n",
    "recipe = {}\n",
    "total_mass = 0\n",
    "for row in chosen_assem:\n",
    "    isotope = nucname.name(row['isotope'])\n",
    "    mass = float(row['total_mass_g'])\n",
    "    total_mass += mass\n",
    "    recipe[isotope] = mass\n",
    "\n",
    "# normalize values:\n",
    "for iso in recipe:\n",
    "    recipe[iso] = recipe[iso] / total_mass\n",
    "\n",
    "print(recipe)"
   ]
  },
  {
   "cell_type": "markdown",
   "metadata": {},
   "source": [
    "# We store all the assemblies in a dictionary, one with the composition with UNF-ST&DARDS, and the other with recipe composition"
   ]
  },
  {
   "cell_type": "code",
   "execution_count": 56,
   "metadata": {},
   "outputs": [],
   "source": [
    "### This can be done but takes way too long to actually get each assembly\n",
    "def get_assembly_dict(cur):\n",
    "    \"\"\" gets assembly evalution times, isotope, total_mass_g and total mass\"\"\"\n",
    "    assem_dict = {}\n",
    "    query = cur.execute('SELECT * FROM discharge').fetchall()\n",
    "    count = 0\n",
    "    percent_done = 0\n",
    "    for row in query:\n",
    "        iso = nucname.name(row['isotope'])\n",
    "        mass = float(row['total_mass_g'])\n",
    "        if row['assembly_id'] not in assem_dict.keys():\n",
    "            # first of the assembly input data, initialize assem_dict[assembly_id] dict\n",
    "            assem_dict[row['assembly_id']] = {'date': row['evaluation_date']}\n",
    "            assem_dict[row['assembly_id']]['mass'] = 0\n",
    "            assem_dict[row['assembly_id']]['comp'] = {iso: mass}\n",
    "        else:\n",
    "            assem_dict[row['assembly_id']]['comp'][iso] = mass\n",
    "            assem_dict[row['assembly_id']]['mass'] += mass\n",
    "        count += 1\n",
    "        if len(query) // 50 == count:\n",
    "            percent_done += 2\n",
    "            print('%s %% DONE' %percent_done)\n",
    "    return assem_dict"
   ]
  },
  {
   "cell_type": "code",
   "execution_count": 64,
   "metadata": {},
   "outputs": [],
   "source": [
    "def get_lump_dict(cur):\n",
    "    lump_dict = {}\n",
    "    query = cur.execute('SELECT evaluation_date, isotope, sum(total_mass_g) FROM discharge '\n",
    "                        'GROUP BY evaluation_date, isotope').fetchall()\n",
    "    print(len(query))\n",
    "    for row in query:\n",
    "        iso = nucname.name(row['isotope'])\n",
    "        mass = float(row['sum(total_mass_g)'])\n",
    "        if row['evaluation_date'] not in lump_dict.keys():\n",
    "            lump_dict[row['evaluation_date']] = {}\n",
    "            lump_dict[row['evaluation_date']]['mass'] = mass            \n",
    "            lump_dict[row['evaluation_date']]['comp'] = {iso: mass}\n",
    "        else:\n",
    "            lump_dict[row['evaluation_date']]['comp'][iso] = mass\n",
    "            lump_dict[row['evaluation_date']]['mass'] += mass\n",
    "    print('DONE')\n",
    "    return lump_dict\n",
    "    "
   ]
  },
  {
   "cell_type": "code",
   "execution_count": 65,
   "metadata": {},
   "outputs": [],
   "source": [
    "def convert_to_recipe(assem_dict, recipe):\n",
    "    recipe_dict = assem_dict.copy()\n",
    "    if sum(recipe.values()) < 0.99 or sum(recipe.values()) > 1.001:\n",
    "        raise ValueError('This aint normalized son')\n",
    "    for key, value in recipe_dict.items():\n",
    "        recipe_dict[key]['comp'] = recipe\n",
    "    return recipe_dict"
   ]
  },
  {
   "cell_type": "code",
   "execution_count": 66,
   "metadata": {},
   "outputs": [
    {
     "name": "stdout",
     "output_type": "stream",
     "text": [
      "110220\n",
      "DONE\n"
     ]
    }
   ],
   "source": [
    "# this takes a while:\n",
    "lump_dict = get_lump_dict(cur)"
   ]
  },
  {
   "cell_type": "code",
   "execution_count": 68,
   "metadata": {},
   "outputs": [],
   "source": [
    "recipe_dict = convert_to_recipe(assem_dict, recipe)"
   ]
  },
  {
   "cell_type": "markdown",
   "metadata": {},
   "source": [
    "# Then we convert the assembly to `pyne` material, for decay and analysis"
   ]
  },
  {
   "cell_type": "code",
   "execution_count": null,
   "metadata": {},
   "outputs": [],
   "source": [
    "def attach_pyne_material(assem_dict):\n",
    "    for key, value in assem_dict.items():\n",
    "        pyne_mat = Material(value['comp'], value['mass'])\n",
    "        assem_dict[key]['mat'] = pyne_mat\n",
    "    return assem_dict"
   ]
  },
  {
   "cell_type": "code",
   "execution_count": null,
   "metadata": {},
   "outputs": [],
   "source": [
    "assem_dict = attach_pyne_material(assem_dict)\n",
    "recipe_dict = attach_pyne_material(recipe_dict)"
   ]
  },
  {
   "cell_type": "markdown",
   "metadata": {},
   "source": [
    "# Then we decay the assemblies to 2020:"
   ]
  },
  {
   "cell_type": "code",
   "execution_count": null,
   "metadata": {},
   "outputs": [],
   "source": [
    "def find_diff_time_secs(year, month, day, evaluation_date):\n",
    "    # the UNF-ST&DARDS data format is YYYY-MM-DD\n",
    "    ev_year = int(evaluation_date[:4])\n",
    "    ev_month = int(evaluation_date[5:7])\n",
    "    ev_day = int(evaluation_date[8:])\n",
    "    \n",
    "    dyear = 0\n",
    "    dmonth = 0\n",
    "    dday = day - ev_day\n",
    "    if dday < 0:\n",
    "        dmonth -= 1\n",
    "        dday += 30\n",
    "    dmonth += month - ev_month\n",
    "    if dmonth < 0:\n",
    "        dyear -= 1\n",
    "        dmonth += 12\n",
    "    dyear += year - ev_year\n",
    "    if dyear < 0:\n",
    "        raise ValueError('Cannot go back in time man')\n",
    "    \n",
    "    time_in_sec = dyear * (365 * 30 * 24 * 3600) + dmonth * (30 * 24 * 3600) + dday * (25 * 3600)\n",
    "    return time_in_sec"
   ]
  },
  {
   "cell_type": "code",
   "execution_count": null,
   "metadata": {},
   "outputs": [],
   "source": [
    "def decay_assemblies(assem_dict):\n",
    "    decayed_dict = assem_dict.copy()\n",
    "    for key, value in assem_dict.items():\n",
    "        # to 2020-07-01\n",
    "        decay_time = find_diff_time_secs(2020, 7, 1, key)\n",
    "        assem_dict[key]['mat'] = assem_dict[key]['mat'].decay(decay_time)\n",
    "    return assem_dict"
   ]
  },
  {
   "cell_type": "code",
   "execution_count": null,
   "metadata": {},
   "outputs": [],
   "source": [
    "2020_assem_dict = decay_assemblies(assem_dict)\n",
    "2020_recipe_dict = decay_assemblies(recipe_dict)"
   ]
  },
  {
   "cell_type": "markdown",
   "metadata": {},
   "source": [
    "# For easier analysis, we collapse all the assemblies into one giant `pyne` material"
   ]
  },
  {
   "cell_type": "code",
   "execution_count": null,
   "metadata": {},
   "outputs": [],
   "source": [
    "def combine_material(assem_dict):\n",
    "    collapsed_mat = Material({'H1':1}, 1e-6)\n",
    "    for key, value in assem_dict.items():\n",
    "        decayed_material = assem_dict[key]['mat']\n",
    "        collapsed_mat = collapsed_mat + decayed_material\n",
    "    return collapsed_mat"
   ]
  },
  {
   "cell_type": "markdown",
   "metadata": {},
   "source": [
    "# Then we compare the metrics:"
   ]
  },
  {
   "cell_type": "code",
   "execution_count": null,
   "metadata": {},
   "outputs": [],
   "source": [
    "def decay_heat(assem_dict):\n",
    "    "
   ]
  }
 ],
 "metadata": {
  "kernelspec": {
   "display_name": "Python 3",
   "language": "python",
   "name": "python3"
  },
  "language_info": {
   "codemirror_mode": {
    "name": "ipython",
    "version": 3
   },
   "file_extension": ".py",
   "mimetype": "text/x-python",
   "name": "python",
   "nbconvert_exporter": "python",
   "pygments_lexer": "ipython3",
   "version": "3.6.4"
  }
 },
 "nbformat": 4,
 "nbformat_minor": 2
}
