{
 "cells": [
  {
   "cell_type": "code",
   "execution_count": 1,
   "metadata": {},
   "outputs": [
    {
     "name": "stderr",
     "output_type": "stream",
     "text": [
      "/Users/13b/anaconda3/lib/python3.6/importlib/_bootstrap.py:219: QAWarning: pyne.data is not yet QA compliant.\n",
      "  return f(*args, **kwds)\n",
      "/Users/13b/anaconda3/lib/python3.6/importlib/_bootstrap.py:219: QAWarning: pyne.material is not yet QA compliant.\n",
      "  return f(*args, **kwds)\n"
     ]
    }
   ],
   "source": [
    "import numpy as np\n",
    "import matplotlib.pyplot as plt\n",
    "import sqlite3 as lite\n",
    "import sys\n",
    "from pyne import nucname\n",
    "from pyne.material import Material"
   ]
  },
  {
   "cell_type": "code",
   "execution_count": 2,
   "metadata": {},
   "outputs": [],
   "source": [
    "# get sqlite cursor\n",
    "filename = '../../db/1yr.sqlite'\n",
    "con = lite.connect(filename)\n",
    "# allows indexing with column name\n",
    "con.row_factory = lite.Row\n",
    "cur = con.cursor()"
   ]
  },
  {
   "cell_type": "markdown",
   "metadata": {},
   "source": [
    "# Finding the Average Assembly and its Composition "
   ]
  },
  {
   "cell_type": "code",
   "execution_count": 3,
   "metadata": {},
   "outputs": [
    {
     "name": "stdout",
     "output_type": "stream",
     "text": [
      "AVG BURNUP: 36169.381303 MWD/MTHM \n",
      "AVG ENRICHMENT: 3.392045 wt% U235\n"
     ]
    }
   ],
   "source": [
    "# first, find the average composition and recipe \n",
    "average_burnup = cur.execute('SELECT avg(discharge_burnup) FROM discharge').fetchone()[0]\n",
    "average_enrichment = cur.execute('SELECT avg(initial_enrichment) FROM discharge').fetchone()[0]\n",
    "print('AVG BURNUP: %f MWD/MTHM \\nAVG ENRICHMENT: %f wt%% U235' %(average_burnup, average_enrichment))"
   ]
  },
  {
   "cell_type": "code",
   "execution_count": 4,
   "metadata": {},
   "outputs": [
    {
     "name": "stdout",
     "output_type": "stream",
     "text": [
      "324192\n"
     ]
    }
   ],
   "source": [
    "# find assembly closest to this value:\n",
    "min_diff_assem_id = cur.execute('SELECT assembly_id, min(abs(discharge_burnup - %f) + abs(initial_enrichment - %f)* 10000) '\n",
    "                                'FROM discharge' %(average_burnup, average_enrichment)).fetchone()[0]\n",
    "print(min_diff_assem_id)"
   ]
  },
  {
   "cell_type": "code",
   "execution_count": 5,
   "metadata": {},
   "outputs": [
    {
     "name": "stdout",
     "output_type": "stream",
     "text": [
      "ERROR:\n",
      "ENRICHMENT: -0.057637 % \n",
      "BURNUP -0.007240 %\n"
     ]
    }
   ],
   "source": [
    "# how different is this assembly from the average?\n",
    "chosen_assem = cur.execute('SELECT * FROM discharge WHERE assembly_id = %i' %min_diff_assem_id).fetchall()\n",
    "burnup = chosen_assem[0]['discharge_burnup']\n",
    "enrichment = chosen_assem[0]['initial_enrichment']\n",
    "\n",
    "# print error with the average value:\n",
    "print('ERROR:')\n",
    "enr_err = 100 * (average_enrichment - enrichment) / average_enrichment\n",
    "bur_err = 100 * (average_burnup - burnup) / average_burnup\n",
    "print('ENRICHMENT: %f %% \\nBURNUP %f %%' %(enr_err, bur_err))"
   ]
  },
  {
   "cell_type": "code",
   "execution_count": 6,
   "metadata": {},
   "outputs": [],
   "source": [
    "# save this assembly's composition to a dictionary\n",
    "recipe = {}\n",
    "total_mass = 0\n",
    "for row in chosen_assem:\n",
    "    isotope = nucname.name(row['isotope'])\n",
    "    mass = float(row['total_mass_g'])\n",
    "    total_mass += mass\n",
    "    recipe[isotope] = mass\n",
    "\n",
    "# normalize values:\n",
    "for iso in recipe:\n",
    "    recipe[iso] = recipe[iso] / total_mass\n"
   ]
  },
  {
   "cell_type": "markdown",
   "metadata": {},
   "source": [
    "# We store all the assemblies in a dictionary, one with the composition with UNF-ST&DARDS, and the other with recipe composition"
   ]
  },
  {
   "cell_type": "code",
   "execution_count": 7,
   "metadata": {},
   "outputs": [],
   "source": [
    "### This can be done but takes way too long to actually get each assembly\n",
    "def get_assembly_dict(cur):\n",
    "    \"\"\" gets assembly evalution times, isotope, total_mass_g and total mass\"\"\"\n",
    "    assem_dict = {}\n",
    "    query = cur.execute('SELECT * FROM discharge').fetchall()\n",
    "    count = 0\n",
    "    percent_done = 0\n",
    "    for row in query:\n",
    "        iso = nucname.name(row['isotope'])\n",
    "        mass = float(row['total_mass_g'])\n",
    "        if row['assembly_id'] not in assem_dict.keys():\n",
    "            # first of the assembly input data, initialize assem_dict[assembly_id] dict\n",
    "            assem_dict[row['assembly_id']] = {'date': row['evaluation_date']}\n",
    "            assem_dict[row['assembly_id']]['mass'] = 0\n",
    "            assem_dict[row['assembly_id']]['comp'] = {iso: mass}\n",
    "        else:\n",
    "            assem_dict[row['assembly_id']]['comp'][iso] = mass\n",
    "            assem_dict[row['assembly_id']]['mass'] += mass\n",
    "        count += 1\n",
    "        if len(query) // 50 == count:\n",
    "            percent_done += 2\n",
    "            print('%s %% DONE' %percent_done)\n",
    "    return assem_dict"
   ]
  },
  {
   "cell_type": "code",
   "execution_count": 8,
   "metadata": {},
   "outputs": [],
   "source": [
    "def get_lump_and_recipe_dict(cur):\n",
    "    lump_dict = {}\n",
    "    recipe_dict = {}\n",
    "    query = cur.execute('SELECT evaluation_date, isotope, sum(total_mass_g) FROM discharge '\n",
    "                        'GROUP BY evaluation_date, isotope').fetchall()\n",
    "    for row in query:\n",
    "        iso = nucname.name(row['isotope'])\n",
    "        mass = float(row['sum(total_mass_g)'])\n",
    "        if row['evaluation_date'] not in lump_dict.keys():\n",
    "            lump_dict[row['evaluation_date']] = {}\n",
    "            lump_dict[row['evaluation_date']]['mass'] = mass\n",
    "            lump_dict[row['evaluation_date']]['comp'] = {iso: mass}\n",
    "            \n",
    "            recipe_dict[row['evaluation_date']] = {}\n",
    "            recipe_dict[row['evaluation_date']]['mass'] = mass\n",
    "            recipe_dict[row['evaluation_date']]['comp'] = recipe\n",
    "        else:\n",
    "            lump_dict[row['evaluation_date']]['comp'][iso] = mass\n",
    "            lump_dict[row['evaluation_date']]['mass'] += mass\n",
    "            \n",
    "            recipe_dict[row['evaluation_date']]['mass'] += mass\n",
    "    \n",
    "    # normalize comp values:\n",
    "    for key, value in lump_dict.items():\n",
    "        for key2, value2 in lump_dict[key]['comp'].items():\n",
    "            lump_dict[key]['comp'][key2] = lump_dict[key]['comp'][key2] / lump_dict[key]['mass']\n",
    "    \n",
    "    print('DONE')\n",
    "    return lump_dict, recipe_dict\n"
   ]
  },
  {
   "cell_type": "code",
   "execution_count": 9,
   "metadata": {},
   "outputs": [
    {
     "name": "stdout",
     "output_type": "stream",
     "text": [
      "DONE\n"
     ]
    }
   ],
   "source": [
    "# this takes a while:\n",
    "lump_dict, recipe_dict = get_lump_and_recipe_dict(cur)"
   ]
  },
  {
   "cell_type": "markdown",
   "metadata": {},
   "source": [
    "# Then we convert the assembly to `pyne` material, for decay and analysis"
   ]
  },
  {
   "cell_type": "code",
   "execution_count": 10,
   "metadata": {},
   "outputs": [],
   "source": [
    "def attach_pyne_material(assem_dict):\n",
    "    for key, value in assem_dict.items():\n",
    "        pyne_mat = Material(value['comp'], value['mass'])\n",
    "        assem_dict[key]['mat'] = pyne_mat\n",
    "    return assem_dict"
   ]
  },
  {
   "cell_type": "code",
   "execution_count": 11,
   "metadata": {},
   "outputs": [],
   "source": [
    "lump_dict = attach_pyne_material(lump_dict)\n",
    "recipe_dict = attach_pyne_material(recipe_dict)"
   ]
  },
  {
   "cell_type": "markdown",
   "metadata": {},
   "source": [
    "# Then we decay the assemblies to 2020:"
   ]
  },
  {
   "cell_type": "code",
   "execution_count": 12,
   "metadata": {},
   "outputs": [],
   "source": [
    "def find_diff_time_secs(year, month, day, evaluation_date):\n",
    "    # the UNF-ST&DARDS data format is YYYY-MM-DD\n",
    "    ev_year = int(evaluation_date[:4])\n",
    "    ev_month = int(evaluation_date[5:7])\n",
    "    ev_day = int(evaluation_date[8:])\n",
    "    \n",
    "    dyear = 0\n",
    "    dmonth = 0\n",
    "    dday = day - ev_day\n",
    "    if dday < 0:\n",
    "        dmonth -= 1\n",
    "        dday += 30\n",
    "    dmonth += month - ev_month\n",
    "    if dmonth < 0:\n",
    "        dyear -= 1\n",
    "        dmonth += 12\n",
    "    dyear += year - ev_year\n",
    "    if dyear < 0:\n",
    "        raise ValueError('Cannot go back in time man')\n",
    "    \n",
    "    time_in_sec = dyear * (365 * 24 * 3600) + dmonth * (30 * 24 * 3600) + dday * (24 * 3600)\n",
    "    return time_in_sec"
   ]
  },
  {
   "cell_type": "code",
   "execution_count": 13,
   "metadata": {},
   "outputs": [],
   "source": [
    "def decay_assemblies(assem_dict):\n",
    "    # just put the pyne materials in there, other categories are unnecessary\n",
    "    decayed_dict = {}\n",
    "    for key, value in assem_dict.items():\n",
    "        # to 2020-07-01\n",
    "        decay_time = find_diff_time_secs(2020, 7, 1, key)\n",
    "        decayed_dict[key] = {}\n",
    "        decayed_dict[key]['mass'] = assem_dict[key]['mass']\n",
    "        decayed_dict[key]['mat'] = assem_dict[key]['mat'].decay(decay_time)\n",
    "    return decayed_dict"
   ]
  },
  {
   "cell_type": "code",
   "execution_count": 14,
   "metadata": {},
   "outputs": [],
   "source": [
    "decayed_lump_dict = decay_assemblies(lump_dict)\n",
    "\n",
    "decayed_recipe_dict = decay_assemblies(recipe_dict)"
   ]
  },
  {
   "cell_type": "markdown",
   "metadata": {},
   "source": [
    "# We also import 2020-cooled data from UNF-ST&DARDS"
   ]
  },
  {
   "cell_type": "code",
   "execution_count": 15,
   "metadata": {},
   "outputs": [
    {
     "name": "stderr",
     "output_type": "stream",
     "text": [
      "/Users/13b/anaconda3/lib/python3.6/site-packages/ipykernel_launcher.py:1: VisibleDeprecationWarning: Reading unicode strings without specifying the encoding argument is deprecated. Set the encoding, use None for the system default.\n",
      "  \"\"\"Entry point for launching an IPython kernel.\n"
     ]
    }
   ],
   "source": [
    "data_2020 = np.genfromtxt('2020_comp.csv', delimiter=\",\", dtype=None)\n",
    "data_dict = {}\n",
    "data_dict['2020-07-01'] = {'mass': 0, 'comp': {}}\n",
    "for data in data_2020:\n",
    "    # in grams\n",
    "    data_dict['2020-07-01']['comp'][data[0].decode('utf-8').replace('-', '')] = data[1] * 1e3\n",
    "    \n",
    "# normalize:\n",
    "norm = sum(data_dict['2020-07-01']['comp'].values())\n",
    "data_dict['2020-07-01']['mass'] = norm\n",
    "for key, value in data_dict['2020-07-01']['comp'].items():\n",
    "    data_dict['2020-07-01']['comp'][key] = value / norm\n",
    "\n",
    "# add pyne material\n",
    "data_dict['2020-07-01']['mat'] = Material(data_dict['2020-07-01']['comp'], data_dict['2020-07-01']['mass'])"
   ]
  },
  {
   "cell_type": "markdown",
   "metadata": {},
   "source": [
    "# We also import 1 year-cooled data from UNF-ST&DARDS"
   ]
  },
  {
   "cell_type": "code",
   "execution_count": 16,
   "metadata": {},
   "outputs": [
    {
     "name": "stderr",
     "output_type": "stream",
     "text": [
      "/Users/13b/anaconda3/lib/python3.6/site-packages/ipykernel_launcher.py:1: VisibleDeprecationWarning: Reading unicode strings without specifying the encoding argument is deprecated. Set the encoding, use None for the system default.\n",
      "  \"\"\"Entry point for launching an IPython kernel.\n"
     ]
    }
   ],
   "source": [
    "data_1yr = np.genfromtxt('1yr_comp.csv', delimiter=\",\", dtype=None)\n",
    "data_dict2 = {}\n",
    "data_dict2['1yr'] = {'mass': 0, 'comp': {}}\n",
    "for data in data_1yr:\n",
    "    # in grams\n",
    "    data_dict2['1yr']['comp'][data[0].decode('utf-8').replace('-', '')] = data[1] * 1e3\n",
    "    \n",
    "# normalize:\n",
    "norm = sum(data_dict2['1yr']['comp'].values())\n",
    "data_dict2['1yr']['mass'] = norm\n",
    "for key, value in data_dict2['1yr']['comp'].items():\n",
    "    data_dict2['1yr']['comp'][key] = value / norm\n",
    "\n",
    "# add pyne material\n",
    "data_dict2['1yr']['mat'] = Material(data_dict2['1yr']['comp'], data_dict2['1yr']['mass'])"
   ]
  },
  {
   "cell_type": "markdown",
   "metadata": {},
   "source": [
    "# Then we compare the metrics:"
   ]
  },
  {
   "cell_type": "code",
   "execution_count": 17,
   "metadata": {},
   "outputs": [],
   "source": [
    "import math\n",
    "\n",
    "def nansum(dictionary):\n",
    "    summ = 0 \n",
    "    for value in dictionary.values():\n",
    "        if not math.isnan(value):\n",
    "             summ += value\n",
    "    return summ\n",
    "\n",
    "def decay_heatz(assem_dict, time=0):\n",
    "    total_heat = 0\n",
    "    for key, value in assem_dict.items():\n",
    "        after = assem_dict[key]['mat'].decay(time)\n",
    "        total_heat += nansum(after.decay_heat())\n",
    "    return total_heat\n",
    "\n",
    "def total_massz(assem_dict, time=0):\n",
    "    total_mass = 0\n",
    "    for key, value in assem_dict.items():\n",
    "        after = assem_dict[key]['mat'].decay(time)\n",
    "        total_mass += value['mass']\n",
    "    return total_mass\n",
    "\n",
    "def activityz(assem_dict, time=0):\n",
    "    activity = 0\n",
    "    for key, value in assem_dict.items():\n",
    "        after = assem_dict[key]['mat'].decay(time)\n",
    "        activity += nansum(after.activity())\n",
    "    return activity\n",
    "\n",
    "def isotopics(assem_dict, time=0):\n",
    "    iso_dict = {}\n",
    "    for key, value in assem_dict.items():\n",
    "        for key2, value2 in value['mat'].mult_by_mass().items():\n",
    "            if key2 not in iso_dict.keys():\n",
    "                iso_dict[key2] = value2\n",
    "            else:\n",
    "                iso_dict[key2] += value2\n",
    "    return iso_dict\n"
   ]
  },
  {
   "cell_type": "code",
   "execution_count": 18,
   "metadata": {},
   "outputs": [],
   "source": [
    "post_lump = isotopics(decayed_lump_dict)\n",
    "post_recipe = isotopics(decayed_recipe_dict)\n",
    "pre_lump = isotopics(lump_dict)\n",
    "pre_recipe = isotopics(recipe_dict)\n",
    "post_data = isotopics(data_dict)\n",
    "pre_data = isotopics(data_dict2)"
   ]
  },
  {
   "cell_type": "code",
   "execution_count": 19,
   "metadata": {},
   "outputs": [
    {
     "name": "stdout",
     "output_type": "stream",
     "text": [
      "UNIT: T\n",
      "\n",
      "Post-decay\n",
      "520.5243187492008\n",
      "514.2153744519587\n",
      "\n",
      "Pre-decay\n",
      "520.8168827414128\n",
      "514.5154422461604\n",
      "\n",
      "Data\n",
      "520.5033843020661\n",
      "520.8168827414328\n"
     ]
    }
   ],
   "source": [
    "# check pu-239 amount\n",
    "# total mass -> should be the same\n",
    "print('UNIT: T')\n",
    "\n",
    "print('\\nPost-decay')\n",
    "print(post_lump[942390000] * 1e-6) \n",
    "print(post_recipe[942390000] * 1e-6)\n",
    "\n",
    "print('\\nPre-decay')\n",
    "print(pre_lump[942390000] * 1e-6)\n",
    "print(pre_recipe[942390000] * 1e-6)\n",
    "\n",
    "print('\\nData')\n",
    "print(post_data[942390000] * 1e-6)\n",
    "print(pre_data[942390000] * 1e-6)"
   ]
  },
  {
   "cell_type": "code",
   "execution_count": 20,
   "metadata": {},
   "outputs": [
    {
     "name": "stdout",
     "output_type": "stream",
     "text": [
      "UNIT: T\n",
      "\n",
      "Post-decay\n",
      "68072.03038959576\n",
      "68072.03038959576\n",
      "\n",
      "Pre-decay\n",
      "68072.03038959576\n",
      "68072.03038959576\n",
      "\n",
      "Data\n",
      "67984.97457236807\n",
      "68072.03038959604\n"
     ]
    }
   ],
   "source": [
    "# total mass -> should be the same\n",
    "print('UNIT: T')\n",
    "\n",
    "print('\\nPost-decay')\n",
    "print(total_massz(decayed_lump_dict) * 1e-6) \n",
    "print(total_massz(decayed_recipe_dict) * 1e-6)\n",
    "\n",
    "print('\\nPre-decay')\n",
    "print(total_massz(lump_dict) * 1e-6)\n",
    "print(total_massz(recipe_dict) * 1e-6)\n",
    "\n",
    "print('\\nData')\n",
    "print(total_massz(data_dict) * 1e-6)\n",
    "print(total_massz(data_dict2) * 1e-6)"
   ]
  },
  {
   "cell_type": "code",
   "execution_count": 21,
   "metadata": {},
   "outputs": [
    {
     "name": "stdout",
     "output_type": "stream",
     "text": [
      "UNIT: MW\n",
      "\n",
      "Post-decay\n",
      "15816433189752.008\n",
      "12818701906108.967\n",
      "\n",
      "Pre-decay\n",
      "86733231734294.06\n",
      "73958976586051.81\n",
      "\n",
      "Data\n",
      "15796748587049.855\n",
      "86733231734292.5\n"
     ]
    }
   ],
   "source": [
    "print('UNIT: MW')\n",
    "print('\\nPost-decay')\n",
    "print(decay_heatz(decayed_lump_dict)) \n",
    "print(decay_heatz(decayed_recipe_dict))\n",
    "\n",
    "print('\\nPre-decay')\n",
    "print(decay_heatz(lump_dict))\n",
    "print(decay_heatz(recipe_dict))\n",
    "\n",
    "print('\\nData')\n",
    "print(decay_heatz(data_dict))\n",
    "print(decay_heatz(data_dict2))"
   ]
  },
  {
   "cell_type": "code",
   "execution_count": 22,
   "metadata": {},
   "outputs": [
    {
     "name": "stdout",
     "output_type": "stream",
     "text": [
      "UNIT: Bq\n",
      "\n",
      "Post-decay\n",
      "6.033061757636931e+31\n",
      "4.8897529146330125e+31\n",
      "\n",
      "Pre-decay\n",
      "2.1847400294613994e+32\n",
      "1.853035474426234e+32\n",
      "\n",
      "Data\n",
      "6.0255589269247135e+31\n",
      "2.1847400294613547e+32\n"
     ]
    }
   ],
   "source": [
    "print('UNIT: Bq')\n",
    "print('\\nPost-decay')\n",
    "print(activityz(decayed_lump_dict))\n",
    "print(activityz(decayed_recipe_dict))\n",
    "\n",
    "print('\\nPre-decay')\n",
    "print(activityz(lump_dict))\n",
    "print(activityz(recipe_dict))\n",
    "\n",
    "print('\\nData')\n",
    "print(activityz(data_dict))\n",
    "print(activityz(data_dict2))"
   ]
  },
  {
   "cell_type": "markdown",
   "metadata": {},
   "source": [
    "# Checking that our results match the data, we do a direct comparison between the decayed material using UNF-ST&DARDS and an Avg. Recipe"
   ]
  },
  {
   "cell_type": "code",
   "execution_count": 129,
   "metadata": {},
   "outputs": [],
   "source": [
    "# lump the materials to one material to make this easier\n",
    "def lump_dict_to_mat(assem_dict):\n",
    "    out_mat = Material({'H1':1},1e-6)\n",
    "    for key, val in assem_dict.items():\n",
    "        out_mat = out_mat + assem_dict[key]['mat']\n",
    "    return out_mat"
   ]
  },
  {
   "cell_type": "code",
   "execution_count": 107,
   "metadata": {},
   "outputs": [],
   "source": [
    "decayed_lump_mat = lump_dict_to_mat(decayed_lump_dict)\n",
    "decayed_recipe_mat = lump_dict_to_mat(decayed_recipe_dict)"
   ]
  },
  {
   "cell_type": "code",
   "execution_count": 108,
   "metadata": {},
   "outputs": [],
   "source": [
    "def plot_decay_heat(mat, start_year, end_year, n_grid=100):\n",
    "    heat_array = np.zeros(n_grid)\n",
    "    time_array = np.linspace(0, ((end_year - start_year) * (3600 * 24 * 365)), n_grid)\n",
    "    time_axis = np.linspace(start_year, end_year, n_grid)\n",
    "    for index, time in enumerate(time_array):\n",
    "        decayed = mat.decay(time)\n",
    "        heat_array[index] = nansum(decayed.decay_heat())\n",
    "    return time_axis, heat_array\n",
    "\n",
    "def plot_activity(mat, start_year, end_year, n_grid=100):\n",
    "    heat_array = np.zeros(n_grid)\n",
    "    time_array = np.linspace(0, ((end_year - start_year) * (3600 * 24 * 365)), n_grid)\n",
    "    time_axis = np.linspace(start_year, end_year, n_grid)\n",
    "    for index, time in enumerate(time_array):\n",
    "        decayed = mat.decay(time)\n",
    "        heat_array[index] = nansum(decayed.activity())\n",
    "    return time_axis, heat_array\n"
   ]
  },
  {
   "cell_type": "code",
   "execution_count": 116,
   "metadata": {},
   "outputs": [],
   "source": [
    "time_acc, heat_acc = plot_decay_heat(decayed_lump_mat, 2020, 10000)\n",
    "time_rec, heat_rec = plot_decay_heat(decayed_recipe_mat, 2020, 10000)\n",
    "\n",
    "time_acc, act_acc = plot_activity(decayed_lump_mat, 2020, 10000)\n",
    "time_rec, act_rec = plot_activity(decayed_recipe_mat, 2020, 10000)"
   ]
  },
  {
   "cell_type": "code",
   "execution_count": 122,
   "metadata": {},
   "outputs": [],
   "source": [
    "err_heat = (heat_acc - heat_rec) / heat_acc\n",
    "err_act = (act_acc - act_rec) / act_acc"
   ]
  },
  {
   "cell_type": "code",
   "execution_count": 127,
   "metadata": {},
   "outputs": [
    {
     "data": {
      "image/png": "[encoded data removed]",
      "text/plain": [
       "<matplotlib.figure.Figure at 0x135a424e0>"
      ]
     },
     "metadata": {},
     "output_type": "display_data"
    },
    {
     "data": {
      "text/plain": [
       "<function matplotlib.pyplot.close>"
      ]
     },
     "execution_count": 127,
     "metadata": {},
     "output_type": "execute_result"
    }
   ],
   "source": [
    "plt.semilogy(time_acc, heat_acc, label='UNF-ST&DARDS')\n",
    "plt.semilogy(time_rec, heat_rec, label='AVG RECIPE')\n",
    "plt.title('Decay Heat vs time')\n",
    "plt.xlabel('Year')\n",
    "plt.ylabel('Decay Heat [MW]')\n",
    "plt.legend()\n",
    "plt.grid()\n",
    "plt.show()\n",
    "plt.close"
   ]
  },
  {
   "cell_type": "code",
   "execution_count": 126,
   "metadata": {},
   "outputs": [
    {
     "data": {
      "image/png": "[encoded data removed]",
      "text/plain": [
       "<matplotlib.figure.Figure at 0x13493bef0>"
      ]
     },
     "metadata": {},
     "output_type": "display_data"
    },
    {
     "data": {
      "text/plain": [
       "<function matplotlib.pyplot.close>"
      ]
     },
     "execution_count": 126,
     "metadata": {},
     "output_type": "execute_result"
    }
   ],
   "source": [
    "plt.semilogy(time_acc, act_acc, label='UNF-ST&DARDS')\n",
    "plt.semilogy(time_rec, act_rec, label='AVG RECIPE')\n",
    "plt.title('Activity vs time')\n",
    "plt.xlabel('Year')\n",
    "plt.ylabel('Activity [Bq]')\n",
    "plt.legend()\n",
    "plt.grid()\n",
    "plt.show()\n",
    "plt.close"
   ]
  },
  {
   "cell_type": "code",
   "execution_count": 128,
   "metadata": {},
   "outputs": [
    {
     "data": {
      "image/png": "[encoded data removed]",
      "text/plain": [
       "<matplotlib.figure.Figure at 0x134bdebe0>"
      ]
     },
     "metadata": {},
     "output_type": "display_data"
    }
   ],
   "source": [
    "plt.plot(time_acc, err_heat, label='Relative Error [Decay Heat]')\n",
    "plt.plot(time_acc, err_act, label='Relative Error [Activity]')\n",
    "plt.legend()\n",
    "plt.grid()\n",
    "plt.show()\n",
    "plt.close()"
   ]
  },
  {
   "cell_type": "code",
   "execution_count": 132,
   "metadata": {},
   "outputs": [
    {
     "name": "stdout",
     "output_type": "stream",
     "text": [
      "520524318.7492009\n"
     ]
    }
   ],
   "source": [
    "print(decayed_lump_mat.mult_by_mass()[942390000])"
   ]
  },
  {
   "cell_type": "markdown",
   "metadata": {},
   "source": [
    "# Compare isotopic differences"
   ]
  },
  {
   "cell_type": "code",
   "execution_count": 139,
   "metadata": {},
   "outputs": [],
   "source": [
    "def compare_isotope(acc_mat, rec_mat, isotope_list, rel_err=False):\n",
    "    # convert to canonical / pyne-standard form\n",
    "    isotope_list = [nucname.id(x) for x in isotope_list]\n",
    "    iso_diff_dict = {}\n",
    "    for iso in isotope_list:\n",
    "        acc_qty = acc_mat.mult_by_mass()[iso]\n",
    "        rec_qty = rec_mat.mult_by_mass()[iso]\n",
    "        if rel_err:\n",
    "            iso_diff_dict[nucname.name(iso)] = (acc_qty - rec_qty) / acc_qty * 100\n",
    "        else:\n",
    "            iso_diff_dict[nucname.name(iso)] = acc_qty - rec_qty\n",
    "    return iso_diff_dict\n"
   ]
  },
  {
   "cell_type": "code",
   "execution_count": 147,
   "metadata": {},
   "outputs": [
    {
     "data": {
      "text/plain": [
       "Text(0.5,1,'Mass Differences between Average recipe and full database')"
      ]
     },
     "execution_count": 147,
     "metadata": {},
     "output_type": "execute_result"
    },
    {
     "data": {
      "image/png": "[encoded data removed]",
      "text/plain": [
       "<matplotlib.figure.Figure at 0x135b77588>"
      ]
     },
     "metadata": {},
     "output_type": "display_data"
    }
   ],
   "source": [
    "iso_list = ['Pu239', 'U238', 'U235', 'Am241', 'Cs137', 'Sr90', 'Pu241']\n",
    "iso_diff_dict = compare_isotope(decayed_lump_mat, decayed_recipe_mat, iso_list)\n",
    "plt.bar(iso_diff_dict.keys(), iso_diff_dict.values())\n",
    "plt.grid()\n",
    "plt.ylabel('Mass difference [g]')\n",
    "plt.xlabel('Isotopes')\n",
    "plt.title('Mass Differences between Average recipe and full database')"
   ]
  },
  {
   "cell_type": "code",
   "execution_count": 148,
   "metadata": {},
   "outputs": [
    {
     "data": {
      "text/plain": [
       "Text(0.5,1,'Relative Error between Average recipe and full database')"
      ]
     },
     "execution_count": 148,
     "metadata": {},
     "output_type": "execute_result"
    },
    {
     "data": {
      "image/png": "[encoded data removed]",
      "text/plain": [
       "<matplotlib.figure.Figure at 0x1358b1780>"
      ]
     },
     "metadata": {},
     "output_type": "display_data"
    }
   ],
   "source": [
    "iso_list = ['Pu239', 'U238', 'U235', 'Am241', 'Cs137', 'Sr90', 'Pu241']\n",
    "iso_diff_dict = compare_isotope(decayed_lump_mat, decayed_recipe_mat, iso_list, rel_err=True)\n",
    "plt.bar(iso_diff_dict.keys(), iso_diff_dict.values())\n",
    "plt.grid()\n",
    "plt.ylabel('Relative Error [%]')\n",
    "plt.xlabel('Isotopes')\n",
    "plt.title('Relative Error between Average recipe and full database')"
   ]
  },
  {
   "cell_type": "code",
   "execution_count": null,
   "metadata": {},
   "outputs": [],
   "source": []
  },
  {
   "cell_type": "code",
   "execution_count": null,
   "metadata": {},
   "outputs": [],
   "source": []
  }
 ],
 "metadata": {
  "kernelspec": {
   "display_name": "Python 3",
   "language": "python",
   "name": "python3"
  },
  "language_info": {
   "codemirror_mode": {
    "name": "ipython",
    "version": 3
   },
   "file_extension": ".py",
   "mimetype": "text/x-python",
   "name": "python",
   "nbconvert_exporter": "python",
   "pygments_lexer": "ipython3",
   "version": "3.6.4"
  }
 },
 "nbformat": 4,
 "nbformat_minor": 2
}
