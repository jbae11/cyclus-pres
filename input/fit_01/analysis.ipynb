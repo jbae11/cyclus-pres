{
 "cells": [
  {
   "cell_type": "code",
   "execution_count": 1,
   "metadata": {},
   "outputs": [],
   "source": [
    "import numpy as np\n",
    "import matplotlib.pyplot as plt\n",
    "import csv"
   ]
  },
  {
   "cell_type": "code",
   "execution_count": 86,
   "metadata": {},
   "outputs": [],
   "source": [
    "def get_comp_dict(filename):\n",
    "    with open(filename, 'r') as f:\n",
    "        lines = f.readlines()\n",
    "        isotopes = lines[0]\n",
    "        isotopes = isotopes.split(',')[1:-1]\n",
    "        isotopes = [x.split('+')[1] for x in isotopes]\n",
    "        masses = lines[-1]\n",
    "        masses = masses.split(',')[1:-1]\n",
    "        masses = np.array([float(x) for x in masses])\n",
    "        total_mass = sum(masses)\n",
    "    \n",
    "    comp_dict = {}\n",
    "    for indx, val in enumerate(isotopes):\n",
    "        comp_dict[val] = masses[indx] / total_mass * 100\n",
    "\n",
    "    return comp_dict"
   ]
  },
  {
   "cell_type": "code",
   "execution_count": 144,
   "metadata": {},
   "outputs": [],
   "source": [
    "def show_fracs(comp_dict, search_list):\n",
    "    filtered_dict = {}\n",
    "    for key, val in comp_dict.items():\n",
    "        for keyword in search_list:\n",
    "            if keyword.upper() in key:\n",
    "                if val < 1e-5:\n",
    "                    continue\n",
    "                filtered_dict[key] = val\n",
    "    return filtered_dict"
   ]
  },
  {
   "cell_type": "code",
   "execution_count": 145,
   "metadata": {},
   "outputs": [],
   "source": [
    "def get_am_pu(filtered_dict):\n",
    "    am_pu = 0\n",
    "    for key, val in filtered_dict.items():\n",
    "        if 'AM' in key or 'PU' in key:\n",
    "            am_pu += val\n",
    "    return am_pu"
   ]
  },
  {
   "cell_type": "code",
   "execution_count": 204,
   "metadata": {},
   "outputs": [],
   "source": [
    "def main(file_list):\n",
    "    data = {}\n",
    "    for file in file_list:\n",
    "        comp_dict = get_comp_dict(file)\n",
    "        frac_dict = show_fracs(comp_dict, ['U', 'NP', 'PU', 'AM'])\n",
    "        am_pu = get_am_pu(frac_dict)\n",
    "        filename = file.split('/')[-1]\n",
    "        filename = filename.split('.csv')[0]\n",
    "        data.update({filename:{'fraction': frac_dict, 'am_pu': am_pu}})\n",
    "    return data"
   ]
  },
  {
   "cell_type": "code",
   "execution_count": 205,
   "metadata": {},
   "outputs": [],
   "source": [
    "from os import listdir\n",
    "from os.path import isfile, join\n",
    "file_list = [f for f in listdir('./results') if isfile(join('./results', f))]\n",
    "file_list =['./results/' + x for x in file_list]"
   ]
  },
  {
   "cell_type": "code",
   "execution_count": 208,
   "metadata": {},
   "outputs": [
    {
     "name": "stdout",
     "output_type": "stream",
     "text": [
      "{'pu_ref_charge_ff': {'fraction': {'U235': 0.22133980079417928, 'U238': 92.77866649920014, 'PU238': 0.27999974800022676, 'PU239': 2.6970975726121846, 'PU240': 1.7191984527213922, 'PU241': 1.1129989983009012, 'PU242': 0.8945991948607245, 'AM241': 0.2960997335102398}, 'am_pu': 6.9999937000056685}, 'pu_ref_charge': {'fraction': {'U235': 0.2213398007941793, 'U238': 92.77866649920016, 'PU238': 0.13859987526011228, 'PU239': 4.357496078253529, 'PU240': 1.5749985825012758, 'PU241': 0.5599994960004536, 'PU242': 0.3499996850002835, 'AM241': 0.01889998299001531}, 'am_pu': 6.999993700005669}, 'source_1_discharge': {'fraction': {'U234': 0.0038873137666766543, 'U235': 0.19535408182433942, 'U236': 0.0004159884115730922, 'U238': 81.78542925962091, 'NP237': 0.0004916440381708525, 'PU238': 0.18845699785379497, 'PU239': 3.1831522726874484, 'PU240': 1.5002571725469085, 'PU241': 0.6366782030152921, 'PU242': 0.496110357325279, 'AM241': 0.1598457426586996}, 'am_pu': 6.164500746087423}, 'pu_ref_discharge': {'fraction': {'U234': 0.0024669343442847175, 'U235': 0.19540178019717522, 'U236': 0.0003848526883313387, 'U238': 81.78463963700563, 'NP237': 0.00019732492339689928, 'PU238': 0.1195966614332613, 'PU239': 3.8408504713817155, 'PU240': 1.387968735733637, 'PU241': 0.4334785340554546, 'PU242': 0.30852417784481073, 'AM241': 0.07605818325295326}, 'am_pu': 6.166476763701833}, '3_modified': {'fraction': {'U235': 0.22133980079417928, 'U238': 92.77866649920014, 'PU238': 0.27999974800022676, 'PU239': 2.6970975726121846, 'PU240': 1.7191984527213922, 'PU241': 1.1129989983009012, 'PU242': 0.8945991948607245, 'AM241': 0.2960997335102398}, 'am_pu': 6.9999937000056685}, 'source_1_charge_ff': {'fraction': {'U235': 0.2213398007941793, 'U238': 92.77866649920016, 'PU238': 0.2183998034401769, 'PU239': 3.6112967498329254, 'PU240': 1.702398467841379, 'PU241': 0.8224992597506663, 'PU242': 0.5627994934804559, 'AM241': 0.08259992566006691}, 'am_pu': 6.999993700005669}, 'source_3_charge': {'fraction': {'U235': 0.22133980079417928, 'U238': 92.77866649920014, 'PU238': 0.27999974800022676, 'PU239': 2.6970975726121846, 'PU240': 1.7191984527213922, 'PU241': 1.1129989983009012, 'PU242': 0.8945991948607245, 'AM241': 0.2960997335102398}, 'am_pu': 6.9999937000056685}, 'source_1_discharge_ff': {'fraction': {'U234': 0.0038873137666766543, 'U235': 0.19535408182433942, 'U236': 0.0004159884115730922, 'U238': 81.78542925962091, 'NP237': 0.0004916440381708525, 'PU238': 0.18845699785379497, 'PU239': 3.1831522726874484, 'PU240': 1.5002571725469085, 'PU241': 0.6366782030152921, 'PU242': 0.496110357325279, 'AM241': 0.1598457426586996}, 'am_pu': 6.164500746087423}, 'source_1_charge': {'fraction': {'U235': 0.2213398007941793, 'U238': 92.77866649920016, 'PU238': 0.2183998034401769, 'PU239': 3.6112967498329254, 'PU240': 1.702398467841379, 'PU241': 0.8224992597506663, 'PU242': 0.5627994934804559, 'AM241': 0.08259992566006691}, 'am_pu': 6.999993700005669}, 'source_2_charge': {'fraction': {'U235': 0.2213398007941793, 'U238': 92.77866649920016, 'PU238': 0.2008998191901627, 'PU239': 3.2892970396326646, 'PU240': 2.373697863671923, 'PU241': 0.3177997139802574, 'PU242': 0.7643993120406192, 'AM241': 0.05389995149004366}, 'am_pu': 6.99999370000567}, 'source_2_discharge': {'fraction': {'U234': 0.0035758136900071206, 'U235': 0.19533160736784944, 'U236': 0.0005800204102334788, 'U238': 81.78509262858242, 'NP237': 0.0002708693883341908, 'PU238': 0.17335564456138183, 'PU239': 2.8993160409988246, 'PU240': 2.0918375105823452, 'PU241': 0.24600061427181097, 'PU242': 0.673820072312562, 'AM241': 0.08105748228094883}, 'am_pu': 6.165387365007874}, 'pu_ref_discharge_ff': {'fraction': {'U234': 0.0049837951604141464, 'U235': 0.19529570303477883, 'U236': 0.0004200966840428395, 'U238': 81.7865148889914, 'NP237': 0.0013436563280104525, 'PU238': 0.2416149124133005, 'PU239': 2.3773694994794625, 'PU240': 1.5150793117389518, 'PU241': 0.8615592590318485, 'PU242': 0.7886059624919105, 'AM241': 0.37809215785057626}, 'am_pu': 6.16232110300605}, 'source_3_discharge': {'fraction': {'U234': 0.0049837951604141464, 'U235': 0.19529570303477883, 'U236': 0.0004200966840428395, 'U238': 81.7865148889914, 'NP237': 0.0013436563280104525, 'PU238': 0.2416149124133005, 'PU239': 2.3773694994794625, 'PU240': 1.5150793117389518, 'PU241': 0.8615592590318485, 'PU242': 0.7886059624919105, 'AM241': 0.37809215785057626}, 'am_pu': 6.16232110300605}}\n"
     ]
    }
   ],
   "source": [
    "data = main(file_list)\n",
    "print(data)"
   ]
  },
  {
   "cell_type": "markdown",
   "metadata": {},
   "source": [
    "## ref"
   ]
  },
  {
   "cell_type": "code",
   "execution_count": 175,
   "metadata": {},
   "outputs": [
    {
     "name": "stdout",
     "output_type": "stream",
     "text": [
      "{'U235': 0.2213398007941793, 'U238': 92.77866649920016, 'PU238': 0.13859987526011228, 'PU239': 4.357496078253529, 'PU240': 1.5749985825012758, 'PU241': 0.5599994960004536, 'PU242': 0.3499996850002835, 'AM241': 0.01889998299001531}\n",
      "AM+PU = 6.999994\n"
     ]
    }
   ],
   "source": [
    "# get charge value (FLM)\n",
    "filename = './results/pu_ref_charge.csv'\n",
    "comp_dict = get_comp_dict(filename)\n",
    "ref_charge = show_fracs(comp_dict, ['U', 'PU', 'AM'])\n",
    "am_pu = get_am_pu(ref_charge)\n",
    "print(ref_charge)\n",
    "print('AM+PU = %f' %am_pu)"
   ]
  },
  {
   "cell_type": "code",
   "execution_count": 176,
   "metadata": {},
   "outputs": [
    {
     "name": "stdout",
     "output_type": "stream",
     "text": [
      "{'U235': 0.22133980079417928, 'U238': 92.77866649920014, 'PU238': 0.27999974800022676, 'PU239': 2.6970975726121846, 'PU240': 1.7191984527213922, 'PU241': 1.1129989983009012, 'PU242': 0.8945991948607245, 'AM241': 0.2960997335102398}\n",
      "AM+PU = 6.999994\n"
     ]
    }
   ],
   "source": [
    "# get charge value (FF)\n",
    "filename = './results/pu_ref_charge_ff.csv'\n",
    "comp_dict = get_comp_dict(filename)\n",
    "ref_charge_ff = show_fracs(comp_dict, ['U', 'PU', 'AM'])\n",
    "am_pu = get_am_pu(ref_charge_ff)\n",
    "print(ref_charge_ff)\n",
    "print('AM+PU = %f' %am_pu)"
   ]
  },
  {
   "cell_type": "code",
   "execution_count": 177,
   "metadata": {},
   "outputs": [
    {
     "name": "stdout",
     "output_type": "stream",
     "text": [
      "{'U234': 0.0024669343442847175, 'U235': 0.19540178019717522, 'U236': 0.0003848526883313387, 'U238': 81.78463963700563, 'NP237': 0.00019732492339689928, 'PU238': 0.1195966614332613, 'PU239': 3.8408504713817155, 'PU240': 1.387968735733637, 'PU241': 0.4334785340554546, 'PU242': 0.30852417784481073, 'AM241': 0.07605818325295326}\n",
      "AM+PU = 6.166477\n"
     ]
    }
   ],
   "source": [
    "# get discharge value (FLM)\n",
    "filename = './results/pu_ref_discharge.csv'\n",
    "comp_dict = get_comp_dict(filename)\n",
    "ref_discharge = show_fracs(comp_dict, ['U', 'NP', 'PU', 'AM'])\n",
    "am_pu = get_am_pu(ref_discharge)\n",
    "print(ref_discharge)\n",
    "print('AM+PU = %f' %am_pu)"
   ]
  },
  {
   "cell_type": "code",
   "execution_count": 180,
   "metadata": {},
   "outputs": [
    {
     "name": "stdout",
     "output_type": "stream",
     "text": [
      "{'U234': 0.0049837951604141464, 'U235': 0.19529570303477883, 'U236': 0.0004200966840428395, 'U238': 81.7865148889914, 'NP237': 0.0013436563280104525, 'PU238': 0.2416149124133005, 'PU239': 2.3773694994794625, 'PU240': 1.5150793117389518, 'PU241': 0.8615592590318485, 'PU242': 0.7886059624919105, 'AM241': 0.37809215785057626}\n",
      "AM+PU = 6.162321\n"
     ]
    }
   ],
   "source": [
    "# get discharge value (FF)\n",
    "filename = './results/pu_ref_discharge_ff.csv'\n",
    "comp_dict = get_comp_dict(filename)\n",
    "ref_discharge_ff = show_fracs(comp_dict, ['U', 'NP', 'PU', 'AM'])\n",
    "am_pu = get_am_pu(ref_discharge_ff)\n",
    "print(ref_discharge_ff)\n",
    "print('AM+PU = %f' %am_pu)"
   ]
  },
  {
   "cell_type": "markdown",
   "metadata": {},
   "source": [
    "## source 1"
   ]
  },
  {
   "cell_type": "code",
   "execution_count": 178,
   "metadata": {},
   "outputs": [
    {
     "name": "stdout",
     "output_type": "stream",
     "text": [
      "{'U235': 0.2213398007941793, 'U238': 92.77866649920016, 'PU238': 0.2183998034401769, 'PU239': 3.6112967498329254, 'PU240': 1.702398467841379, 'PU241': 0.8224992597506663, 'PU242': 0.5627994934804559, 'AM241': 0.08259992566006691}\n",
      "AM+PU = 6.999994\n"
     ]
    }
   ],
   "source": [
    "# get charge value (FLM)\n",
    "filename = './results/source_1_charge.csv'\n",
    "comp_dict = get_comp_dict(filename)\n",
    "one_charge = show_fracs(comp_dict, ['U', 'PU', 'AM'])\n",
    "am_pu = get_am_pu(one_charge)\n",
    "print(one_charge)\n",
    "print('AM+PU = %f' %am_pu)"
   ]
  },
  {
   "cell_type": "code",
   "execution_count": 181,
   "metadata": {},
   "outputs": [
    {
     "name": "stdout",
     "output_type": "stream",
     "text": [
      "{'U235': 0.2213398007941793, 'U238': 92.77866649920016, 'PU238': 0.2183998034401769, 'PU239': 3.6112967498329254, 'PU240': 1.702398467841379, 'PU241': 0.8224992597506663, 'PU242': 0.5627994934804559, 'AM241': 0.08259992566006691}\n",
      "AM+PU = 6.999994\n"
     ]
    }
   ],
   "source": [
    "# get charge value (FF)\n",
    "filename = './results/source_1_charge_ff.csv'\n",
    "comp_dict = get_comp_dict(filename)\n",
    "one_charge_ff = show_fracs(comp_dict, ['U', 'PU', 'AM'])\n",
    "am_pu = get_am_pu(one_charge_ff)\n",
    "print(one_charge_ff)\n",
    "print('AM+PU = %f' %am_pu)"
   ]
  },
  {
   "cell_type": "code",
   "execution_count": 179,
   "metadata": {},
   "outputs": [
    {
     "name": "stdout",
     "output_type": "stream",
     "text": [
      "{'U234': 0.0038873137666766543, 'U235': 0.19535408182433942, 'U236': 0.0004159884115730922, 'U238': 81.78542925962091, 'NP237': 0.0004916440381708525, 'PU238': 0.18845699785379497, 'PU239': 3.1831522726874484, 'PU240': 1.5002571725469085, 'PU241': 0.6366782030152921, 'PU242': 0.496110357325279, 'AM241': 0.1598457426586996}\n",
      "AM+PU = 6.164501\n"
     ]
    }
   ],
   "source": [
    "# get discharge value (FLM)\n",
    "filename = './results/source_1_discharge.csv'\n",
    "comp_dict = get_comp_dict(filename)\n",
    "one_discharge = show_fracs(comp_dict, ['U', 'NP', 'PU', 'AM'])\n",
    "am_pu = get_am_pu(one_discharge)\n",
    "print(one_discharge)\n",
    "print('AM+PU = %f' %am_pu)"
   ]
  },
  {
   "cell_type": "code",
   "execution_count": 183,
   "metadata": {},
   "outputs": [
    {
     "name": "stdout",
     "output_type": "stream",
     "text": [
      "{'U234': 0.0038873137666766543, 'U235': 0.19535408182433942, 'U236': 0.0004159884115730922, 'U238': 81.78542925962091, 'NP237': 0.0004916440381708525, 'PU238': 0.18845699785379497, 'PU239': 3.1831522726874484, 'PU240': 1.5002571725469085, 'PU241': 0.6366782030152921, 'PU242': 0.496110357325279, 'AM241': 0.1598457426586996}\n",
      "AM+PU = 6.164501\n"
     ]
    }
   ],
   "source": [
    "# get discharge value (FF)\n",
    "filename = './results/source_1_discharge_ff.csv'\n",
    "comp_dict = get_comp_dict(filename)\n",
    "one_discharge_ff = show_fracs(comp_dict, ['U', 'NP', 'PU', 'AM'])\n",
    "am_pu = get_am_pu(one_discharge_ff)\n",
    "print(one_discharge_ff)\n",
    "print('AM+PU = %f' %am_pu)"
   ]
  },
  {
   "cell_type": "markdown",
   "metadata": {},
   "source": [
    "## source 2"
   ]
  },
  {
   "cell_type": "code",
   "execution_count": 157,
   "metadata": {},
   "outputs": [
    {
     "data": {
      "text/plain": [
       "{'U235': 0.2213398007941793,\n",
       " 'U238': 92.77866649920016,\n",
       " 'PU238': 0.2008998191901627,\n",
       " 'PU239': 3.2892970396326646,\n",
       " 'PU240': 2.373697863671923,\n",
       " 'PU241': 0.3177997139802574,\n",
       " 'PU242': 0.7643993120406192,\n",
       " 'AM241': 0.05389995149004366}"
      ]
     },
     "execution_count": 157,
     "metadata": {},
     "output_type": "execute_result"
    }
   ],
   "source": [
    "# get charge value (FLM)\n",
    "filename = './results/source_2_charge.csv'\n",
    "comp_dict = get_comp_dict(filename)\n",
    "show_fracs(comp_dict, ['U', 'PU', 'AM'])"
   ]
  },
  {
   "cell_type": "code",
   "execution_count": 166,
   "metadata": {},
   "outputs": [
    {
     "data": {
      "text/plain": [
       "{'U234': 0.0035758136900071206,\n",
       " 'U235': 0.19533160736784944,\n",
       " 'U236': 0.0005800204102334788,\n",
       " 'U238': 81.78509262858242,\n",
       " 'NP237': 0.0002708693883341908,\n",
       " 'PU238': 0.17335564456138183,\n",
       " 'PU239': 2.8993160409988246,\n",
       " 'PU240': 2.0918375105823452,\n",
       " 'PU241': 0.24600061427181097,\n",
       " 'PU242': 0.673820072312562,\n",
       " 'AM241': 0.08105748228094883}"
      ]
     },
     "execution_count": 166,
     "metadata": {},
     "output_type": "execute_result"
    }
   ],
   "source": [
    "# get discharge value (FLM)\n",
    "filename = './results/source_2_discharge.csv'\n",
    "comp_dict = get_comp_dict(filename)\n",
    "show_fracs(comp_dict, ['U', 'NP', 'PU', 'AM'])"
   ]
  },
  {
   "cell_type": "markdown",
   "metadata": {},
   "source": [
    "## source 3"
   ]
  },
  {
   "cell_type": "code",
   "execution_count": 159,
   "metadata": {},
   "outputs": [
    {
     "data": {
      "text/plain": [
       "{'U235': 0.22133980079417928,\n",
       " 'U238': 92.77866649920014,\n",
       " 'PU238': 0.27999974800022676,\n",
       " 'PU239': 2.6970975726121846,\n",
       " 'PU240': 1.7191984527213922,\n",
       " 'PU241': 1.1129989983009012,\n",
       " 'PU242': 0.8945991948607245,\n",
       " 'AM241': 0.2960997335102398}"
      ]
     },
     "execution_count": 159,
     "metadata": {},
     "output_type": "execute_result"
    }
   ],
   "source": [
    "# get charge value (FLM)\n",
    "filename = './results/source_3_charge.csv'\n",
    "comp_dict = get_comp_dict(filename)\n",
    "show_fracs(comp_dict, ['U', 'PU', 'AM'])"
   ]
  },
  {
   "cell_type": "code",
   "execution_count": 167,
   "metadata": {},
   "outputs": [
    {
     "data": {
      "text/plain": [
       "{'U234': 0.0049837951604141464,\n",
       " 'U235': 0.19529570303477883,\n",
       " 'U236': 0.0004200966840428395,\n",
       " 'U238': 81.7865148889914,\n",
       " 'NP237': 0.0013436563280104525,\n",
       " 'PU238': 0.2416149124133005,\n",
       " 'PU239': 2.3773694994794625,\n",
       " 'PU240': 1.5150793117389518,\n",
       " 'PU241': 0.8615592590318485,\n",
       " 'PU242': 0.7886059624919105,\n",
       " 'AM241': 0.37809215785057626}"
      ]
     },
     "execution_count": 167,
     "metadata": {},
     "output_type": "execute_result"
    }
   ],
   "source": [
    "# get discharge value (FLM)\n",
    "filename = './results/source_3_discharge.csv'\n",
    "comp_dict = get_comp_dict(filename)\n",
    "show_fracs(comp_dict, ['U', 'NP','PU', 'AM'])"
   ]
  },
  {
   "cell_type": "code",
   "execution_count": null,
   "metadata": {},
   "outputs": [],
   "source": []
  }
 ],
 "metadata": {
  "kernelspec": {
   "display_name": "Python 3",
   "language": "python",
   "name": "python3"
  },
  "language_info": {
   "codemirror_mode": {
    "name": "ipython",
    "version": 3
   },
   "file_extension": ".py",
   "mimetype": "text/x-python",
   "name": "python",
   "nbconvert_exporter": "python",
   "pygments_lexer": "ipython3",
   "version": "3.6.5"
  }
 },
 "nbformat": 4,
 "nbformat_minor": 2
}
