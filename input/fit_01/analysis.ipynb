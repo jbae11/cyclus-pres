{
 "cells": [
  {
   "cell_type": "code",
   "execution_count": 11,
   "metadata": {},
   "outputs": [],
   "source": [
    "import numpy as np\n",
    "import matplotlib.pyplot as plt\n",
    "import csv"
   ]
  },
  {
   "cell_type": "markdown",
   "metadata": {},
   "source": [
    "# FIT01 for Fuel Cycle Simulation Reactor Depletion\n",
    "### This Functionality Isolation Test (FIT) is to test MOX fuel fabrication and depletion functionalities in a reactor module given streams of varying plutonium quality (different isotopics). The four streams are:\n",
    "### `ref, source_1, source_2, and source_3`.\n",
    "\n",
    "### ORION is used for this analysis, where a MOX LWR fabrication and reactor module is given four streams with varying plutonium stream. \n",
    "\n",
    "### The Fuel Loading Module (FLM) is the `Fuel Fabrication` facility in ORION, that uses cross sections and nu-bars to calculate how to mix the fissile and fertile stream. The datasets with `_ff` are ones using fixed fractions, which means that the FLM is not utilized.\n",
    "\n",
    "### Depletion is done using cross section data.\n",
    "\n",
    "### The fissile stream is plutonium and americium in different qualities.\n",
    "### The fertile stream is depleted uranium (0.238% U235)."
   ]
  },
  {
   "cell_type": "code",
   "execution_count": 12,
   "metadata": {},
   "outputs": [
    {
     "data": {
      "application/javascript": [
       "IPython.OutputArea.prototype._should_scroll = function(lines) {\n",
       "    return false;\n",
       "}"
      ],
      "text/plain": [
       "<IPython.core.display.Javascript object>"
      ]
     },
     "metadata": {},
     "output_type": "display_data"
    }
   ],
   "source": [
    "%%javascript\n",
    "IPython.OutputArea.prototype._should_scroll = function(lines) {\n",
    "    return false;\n",
    "}"
   ]
  },
  {
   "cell_type": "code",
   "execution_count": 13,
   "metadata": {},
   "outputs": [],
   "source": [
    "def get_comp_dict(filename):\n",
    "    with open(filename, 'r') as f:\n",
    "        lines = f.readlines()\n",
    "        isotopes = lines[0]\n",
    "        isotopes = isotopes.split(',')[1:-1]\n",
    "        isotopes = [x.split('+')[1] for x in isotopes]\n",
    "        masses = lines[-1]\n",
    "        masses = masses.split(',')[1:-1]\n",
    "        masses = np.array([float(x) for x in masses])\n",
    "        total_mass = sum(masses)\n",
    "    \n",
    "    comp_dict = {}\n",
    "    for indx, val in enumerate(isotopes):\n",
    "        comp_dict[val] = masses[indx]\n",
    "    \n",
    "    # get rid of oxygen\n",
    "    comp_dict = {key: value for key, value in comp_dict.items()\n",
    "                 if 'O' not in key}\n",
    "    \n",
    "    # from mass to percentage\n",
    "    comp_dict = {key: value / sum(comp_dict.values()) * 100 for key, value\n",
    "                 in comp_dict.items()}\n",
    "\n",
    "    return comp_dict"
   ]
  },
  {
   "cell_type": "code",
   "execution_count": 14,
   "metadata": {},
   "outputs": [],
   "source": [
    "def show_fracs(comp_dict, search_list=[]):\n",
    "    filtered_dict = {}\n",
    "    for key, val in comp_dict.items():\n",
    "        if val < 1e-10:\n",
    "            continue\n",
    "        if len(search_list) > 1:\n",
    "            for keyword in search_list:\n",
    "                if keyword.upper() in key:\n",
    "                    filtered_dict[key] = val\n",
    "        else:\n",
    "            filtered_dict[key] = val\n",
    "    return filtered_dict"
   ]
  },
  {
   "cell_type": "code",
   "execution_count": 15,
   "metadata": {},
   "outputs": [],
   "source": [
    "def get_am_pu(filtered_dict):\n",
    "    am_pu = 0\n",
    "    for key, val in filtered_dict.items():\n",
    "        if 'AM' in key or 'PU' in key:\n",
    "            am_pu += val\n",
    "    return am_pu"
   ]
  },
  {
   "cell_type": "code",
   "execution_count": 16,
   "metadata": {},
   "outputs": [],
   "source": [
    "def main(file_list):\n",
    "    data = {}\n",
    "    for file in file_list:\n",
    "        comp_dict = get_comp_dict(file)\n",
    "#        frac_dict = show_fracs(comp_dict, ['U', 'NP', 'PU', 'AM'])\n",
    "        frac_dict = show_fracs(comp_dict)\n",
    "        am_pu = get_am_pu(frac_dict)\n",
    "        filename = file.split('/')[-1]\n",
    "        filename = filename.split('.csv')[0]\n",
    "        data.update({filename:{'fraction': frac_dict, 'AM+PU': am_pu}})\n",
    "    return data"
   ]
  },
  {
   "cell_type": "code",
   "execution_count": 17,
   "metadata": {},
   "outputs": [],
   "source": [
    "from os import listdir\n",
    "from os.path import isfile, join\n",
    "file_list = [f for f in listdir('./results') if isfile(join('./results', f))]\n",
    "file_list =['./results/' + x for x in file_list]"
   ]
  },
  {
   "cell_type": "code",
   "execution_count": 18,
   "metadata": {},
   "outputs": [],
   "source": [
    "data = main(file_list)"
   ]
  },
  {
   "cell_type": "code",
   "execution_count": 19,
   "metadata": {},
   "outputs": [],
   "source": [
    "# show all \n",
    "def show_data(data, must_word=''):\n",
    "    for key, val in data.items():\n",
    "        if must_word not in key:\n",
    "            continue\n",
    "        print('=========================')\n",
    "        print(key)\n",
    "        for key2, val2 in val.items():\n",
    "            if key2 == 'fraction':\n",
    "                for key3, val3 in val2.items():\n",
    "                    print('%s = %f' %(key3, val3))\n",
    "            else:\n",
    "                print('%s = %f' %(key2, val2))\n",
    "        print('=========================')\n",
    "        print('\\n')\n"
   ]
  },
  {
   "cell_type": "code",
   "execution_count": 20,
   "metadata": {
    "scrolled": true
   },
   "outputs": [
    {
     "name": "stdout",
     "output_type": "stream",
     "text": [
      "=========================\n",
      "thousand\n",
      "TH230 = 0.000000\n",
      "TH234 = 0.000000\n",
      "PA231 = 0.000000\n",
      "U234 = 0.002799\n",
      "U235 = 0.221671\n",
      "U235(1) = 0.000000\n",
      "U236 = 0.000437\n",
      "U237 = 0.000000\n",
      "U238 = 92.779400\n",
      "NP237 = 0.000224\n",
      "PU238 = 0.135675\n",
      "PU239 = 4.357197\n",
      "PU240 = 1.574561\n",
      "PU241 = 0.491753\n",
      "PU242 = 0.350001\n",
      "AM241 = 0.086283\n",
      "AM+PU = 6.995470\n",
      "=========================\n",
      "\n",
      "\n"
     ]
    }
   ],
   "source": [
    "# show all -> show_data(data)\n",
    "# show discharge only -> show_data(data, '_discharge')\n",
    "# show charge only -> show_data(data, '_charge')\n",
    "# show fixed fraction only -> show_data(data, '_ff')\n",
    "show_data(data, 'thousand')"
   ]
  },
  {
   "cell_type": "markdown",
   "metadata": {},
   "source": [
    "## major errors spotted:\n",
    "1. The charge fuel composition does not change\n",
    "    * the Pu composition changes, obviously becasue the input stream is different.\n",
    "    * but the U composition does not, which means that the fuel fabrication is mixing the fuel at the same ratio\n",
    "        * Maybe it's a cross section thing, so I tried using CASMO mox cross section file, still the same.\n",
    "2. The depleted composition is different from excel\n",
    "    * U238 drops down to ~80 percent\n",
    "        * tried power density 10.13 W/g\n",
    "        * 104.5 W/cc\n",
    "    * very minor differences across diff pu streams\n",
    "    * the AM+PU is higher than excel"
   ]
  },
  {
   "cell_type": "code",
   "execution_count": null,
   "metadata": {},
   "outputs": [],
   "source": []
  }
 ],
 "metadata": {
  "kernelspec": {
   "display_name": "Python 3",
   "language": "python",
   "name": "python3"
  },
  "language_info": {
   "codemirror_mode": {
    "name": "ipython",
    "version": 3
   },
   "file_extension": ".py",
   "mimetype": "text/x-python",
   "name": "python",
   "nbconvert_exporter": "python",
   "pygments_lexer": "ipython3",
   "version": "3.6.5"
  }
 },
 "nbformat": 4,
 "nbformat_minor": 2
}
