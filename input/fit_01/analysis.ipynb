{
 "cells": [
  {
   "cell_type": "code",
   "execution_count": 222,
   "metadata": {},
   "outputs": [],
   "source": [
    "import numpy as np\n",
    "import matplotlib.pyplot as plt\n",
    "import csv"
   ]
  },
  {
   "cell_type": "markdown",
   "metadata": {},
   "source": [
    "# FIT01 for Fuel Cycle Simulation Reactor Depletion\n",
    "### This Functionality Isolation Test (FIT) is to test MOX fuel fabrication and depletion functionalities in a reactor module given streams of varying plutonium quality (different isotopics). The four streams are:\n",
    "### `ref, source_1, source_2, and source_3`.\n",
    "\n",
    "### ORION is used for this analysis, where a MOX LWR fabrication and reactor module is given four streams with varying plutonium stream. \n",
    "\n",
    "### The Fuel Loading Module (FLM) is the `Fuel Fabrication` facility in ORION, that uses cross sections and nu-bars to calculate how to mix the fissile and fertile stream. The datasets with `_ff` are ones using fixed fractions, which means that the FLM is not utilized.\n",
    "\n",
    "### Depletion is done using cross section data.\n",
    "\n",
    "### The fissile stream is plutonium and americium in different qualities.\n",
    "### The fertile stream is depleted uranium (0.238% U235)."
   ]
  },
  {
   "cell_type": "code",
   "execution_count": 254,
   "metadata": {},
   "outputs": [
    {
     "data": {
      "application/javascript": [
       "IPython.OutputArea.prototype._should_scroll = function(lines) {\n",
       "    return false;\n",
       "}"
      ],
      "text/plain": [
       "<IPython.core.display.Javascript object>"
      ]
     },
     "metadata": {},
     "output_type": "display_data"
    }
   ],
   "source": [
    "%%javascript\n",
    "IPython.OutputArea.prototype._should_scroll = function(lines) {\n",
    "    return false;\n",
    "}"
   ]
  },
  {
   "cell_type": "code",
   "execution_count": 255,
   "metadata": {},
   "outputs": [],
   "source": [
    "def get_comp_dict(filename):\n",
    "    with open(filename, 'r') as f:\n",
    "        lines = f.readlines()\n",
    "        isotopes = lines[0]\n",
    "        isotopes = isotopes.split(',')[1:-1]\n",
    "        isotopes = [x.split('+')[1] for x in isotopes]\n",
    "        masses = lines[-1]\n",
    "        masses = masses.split(',')[1:-1]\n",
    "        masses = np.array([float(x) for x in masses])\n",
    "        total_mass = sum(masses)\n",
    "    \n",
    "    comp_dict = {}\n",
    "    for indx, val in enumerate(isotopes):\n",
    "        comp_dict[val] = masses[indx] / total_mass * 100\n",
    "\n",
    "    return comp_dict"
   ]
  },
  {
   "cell_type": "code",
   "execution_count": 256,
   "metadata": {},
   "outputs": [],
   "source": [
    "def show_fracs(comp_dict, search_list):\n",
    "    filtered_dict = {}\n",
    "    for key, val in comp_dict.items():\n",
    "        for keyword in search_list:\n",
    "            if keyword.upper() in key:\n",
    "                if val < 1e-5:\n",
    "                    continue\n",
    "                filtered_dict[key] = val\n",
    "    return filtered_dict"
   ]
  },
  {
   "cell_type": "code",
   "execution_count": 257,
   "metadata": {},
   "outputs": [],
   "source": [
    "def get_am_pu(filtered_dict):\n",
    "    am_pu = 0\n",
    "    for key, val in filtered_dict.items():\n",
    "        if 'AM' in key or 'PU' in key:\n",
    "            am_pu += val\n",
    "    return am_pu"
   ]
  },
  {
   "cell_type": "code",
   "execution_count": 258,
   "metadata": {},
   "outputs": [],
   "source": [
    "def main(file_list):\n",
    "    data = {}\n",
    "    for file in file_list:\n",
    "        comp_dict = get_comp_dict(file)\n",
    "        frac_dict = show_fracs(comp_dict, ['U', 'NP', 'PU', 'AM'])\n",
    "        am_pu = get_am_pu(frac_dict)\n",
    "        filename = file.split('/')[-1]\n",
    "        filename = filename.split('.csv')[0]\n",
    "        data.update({filename:{'fraction': frac_dict, 'AM+PU': am_pu}})\n",
    "    return data"
   ]
  },
  {
   "cell_type": "code",
   "execution_count": 259,
   "metadata": {},
   "outputs": [],
   "source": [
    "from os import listdir\n",
    "from os.path import isfile, join\n",
    "file_list = [f for f in listdir('./results') if isfile(join('./results', f))]\n",
    "file_list =['./results/' + x for x in file_list]"
   ]
  },
  {
   "cell_type": "code",
   "execution_count": 261,
   "metadata": {},
   "outputs": [],
   "source": [
    "data = main(file_list)"
   ]
  },
  {
   "cell_type": "code",
   "execution_count": 262,
   "metadata": {},
   "outputs": [],
   "source": [
    "# show all \n",
    "def show_data(data, must_word=''):\n",
    "    for key, val in data.items():\n",
    "        if must_word not in key:\n",
    "            continue\n",
    "        print('=========================')\n",
    "        print(key)\n",
    "        for key2, val2 in val.items():\n",
    "            if key2 == 'fraction':\n",
    "                for key3, val3 in val2.items():\n",
    "                    print('%s = %f' %(key3, val3))\n",
    "            else:\n",
    "                print('%s = %f' %(key2, val2))\n",
    "        print('=========================')\n",
    "        print('\\n')\n"
   ]
  },
  {
   "cell_type": "code",
   "execution_count": 268,
   "metadata": {},
   "outputs": [
    {
     "name": "stdout",
     "output_type": "stream",
     "text": [
      "=========================\n",
      "pu_ref_charge_ff\n",
      "U235 = 0.221340\n",
      "U238 = 92.778666\n",
      "PU238 = 0.280000\n",
      "PU239 = 2.697098\n",
      "PU240 = 1.719198\n",
      "PU241 = 1.112999\n",
      "PU242 = 0.894599\n",
      "AM241 = 0.296100\n",
      "AM+PU = 6.999994\n",
      "=========================\n",
      "\n",
      "\n",
      "=========================\n",
      "source_3_charge_ff\n",
      "U235 = 0.221340\n",
      "U238 = 92.778666\n",
      "PU238 = 0.200900\n",
      "PU239 = 3.289297\n",
      "PU240 = 2.373698\n",
      "PU241 = 0.317800\n",
      "PU242 = 0.764399\n",
      "AM241 = 0.053900\n",
      "AM+PU = 6.999994\n",
      "=========================\n",
      "\n",
      "\n",
      "=========================\n",
      "pu_ref_charge\n",
      "U235 = 0.221340\n",
      "U238 = 92.778666\n",
      "PU238 = 0.138600\n",
      "PU239 = 4.357496\n",
      "PU240 = 1.574999\n",
      "PU241 = 0.559999\n",
      "PU242 = 0.350000\n",
      "AM241 = 0.018900\n",
      "AM+PU = 6.999994\n",
      "=========================\n",
      "\n",
      "\n",
      "=========================\n",
      "source_1_charge_ff\n",
      "U235 = 0.221340\n",
      "U238 = 92.778666\n",
      "PU238 = 0.218400\n",
      "PU239 = 3.611297\n",
      "PU240 = 1.702398\n",
      "PU241 = 0.822499\n",
      "PU242 = 0.562799\n",
      "AM241 = 0.082600\n",
      "AM+PU = 6.999994\n",
      "=========================\n",
      "\n",
      "\n",
      "=========================\n",
      "source_3_charge\n",
      "U235 = 0.221340\n",
      "U238 = 92.778666\n",
      "PU238 = 0.280000\n",
      "PU239 = 2.697098\n",
      "PU240 = 1.719198\n",
      "PU241 = 1.112999\n",
      "PU242 = 0.894599\n",
      "AM241 = 0.296100\n",
      "AM+PU = 6.999994\n",
      "=========================\n",
      "\n",
      "\n",
      "=========================\n",
      "source_1_charge\n",
      "U235 = 0.221340\n",
      "U238 = 92.778666\n",
      "PU238 = 0.218400\n",
      "PU239 = 3.611297\n",
      "PU240 = 1.702398\n",
      "PU241 = 0.822499\n",
      "PU242 = 0.562799\n",
      "AM241 = 0.082600\n",
      "AM+PU = 6.999994\n",
      "=========================\n",
      "\n",
      "\n",
      "=========================\n",
      "source_2_charge\n",
      "U235 = 0.221340\n",
      "U238 = 92.778666\n",
      "PU238 = 0.200900\n",
      "PU239 = 3.289297\n",
      "PU240 = 2.373698\n",
      "PU241 = 0.317800\n",
      "PU242 = 0.764399\n",
      "AM241 = 0.053900\n",
      "AM+PU = 6.999994\n",
      "=========================\n",
      "\n",
      "\n",
      "=========================\n",
      "source_2_charge_ff\n",
      "U235 = 0.221340\n",
      "U238 = 92.778666\n",
      "PU238 = 0.200900\n",
      "PU239 = 3.289297\n",
      "PU240 = 2.373698\n",
      "PU241 = 0.317800\n",
      "PU242 = 0.764399\n",
      "AM241 = 0.053900\n",
      "AM+PU = 6.999994\n",
      "=========================\n",
      "\n",
      "\n"
     ]
    }
   ],
   "source": [
    "# show all\n",
    "show_data(data, '_charge')"
   ]
  },
  {
   "cell_type": "code",
   "execution_count": null,
   "metadata": {},
   "outputs": [],
   "source": []
  }
 ],
 "metadata": {
  "kernelspec": {
   "display_name": "Python 3",
   "language": "python",
   "name": "python3"
  },
  "language_info": {
   "codemirror_mode": {
    "name": "ipython",
    "version": 3
   },
   "file_extension": ".py",
   "mimetype": "text/x-python",
   "name": "python",
   "nbconvert_exporter": "python",
   "pygments_lexer": "ipython3",
   "version": "3.6.5"
  }
 },
 "nbformat": 4,
 "nbformat_minor": 2
}
