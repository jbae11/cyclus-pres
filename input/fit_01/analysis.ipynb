{
 "cells": [
  {
   "cell_type": "code",
   "execution_count": 1,
   "metadata": {},
   "outputs": [],
   "source": [
    "import numpy as np\n",
    "import matplotlib.pyplot as plt\n",
    "import csv"
   ]
  },
  {
   "cell_type": "markdown",
   "metadata": {},
   "source": [
    "# FIT01 for Fuel Cycle Simulation Reactor Depletion\n",
    "### This Functionality Isolation Test (FIT) is to test MOX fuel fabrication and depletion functionalities in a reactor module given streams of varying plutonium quality (different isotopics). The four streams are:\n",
    "### `ref, source_1, source_2, and source_3`.\n",
    "\n",
    "### ORION is used for this analysis, where a MOX LWR fabrication and reactor module is given four streams with varying plutonium stream. \n",
    "\n",
    "### The Fuel Loading Module (FLM) is the `Fuel Fabrication` facility in ORION, that uses cross sections and nu-bars to calculate how to mix the fissile and fertile stream. The datasets with `_ff` are ones using fixed fractions, which means that the FLM is not utilized. (DOESN'T WORK)\n",
    "\n",
    "\n",
    "### The fissile stream is plutonium and americium in different qualities (higher the source number, lower the quality - less fissile Pu isotopes).\n",
    "### The fertile stream is depleted uranium (0.238% U235).\n",
    "\n",
    "### Power density parameter in ORION is calculated by dividng the thermal power by the core mass\n",
    "```\n",
    "lwr_mox = 3000MW / 72t = 41.6W/g\n",
    "sfr = 2500 MW / 51.95t = 48.12 W/g\n",
    "```"
   ]
  },
  {
   "cell_type": "code",
   "execution_count": 2,
   "metadata": {},
   "outputs": [
    {
     "data": {
      "application/javascript": [
       "IPython.OutputArea.prototype._should_scroll = function(lines) {\n",
       "    return false;\n",
       "}"
      ],
      "text/plain": [
       "<IPython.core.display.Javascript object>"
      ]
     },
     "metadata": {},
     "output_type": "display_data"
    }
   ],
   "source": [
    "%%javascript\n",
    "IPython.OutputArea.prototype._should_scroll = function(lines) {\n",
    "    return false;\n",
    "}"
   ]
  },
  {
   "cell_type": "code",
   "execution_count": 3,
   "metadata": {},
   "outputs": [],
   "source": [
    "def get_comp_dict(filename):\n",
    "    with open(filename, 'r') as f:\n",
    "        lines = f.readlines()\n",
    "        isotopes = lines[0]\n",
    "        isotopes = isotopes.split(',')[1:-1]\n",
    "        isotopes = [x.split('+')[1] for x in isotopes]\n",
    "        masses = lines[-1]\n",
    "        masses = masses.split(',')[1:-1]\n",
    "        masses = np.array([float(x) for x in masses])\n",
    "        total_mass = sum(masses)\n",
    "    \n",
    "    comp_dict = {}\n",
    "    for indx, val in enumerate(isotopes):\n",
    "        comp_dict[val] = masses[indx]\n",
    "    \n",
    "    # get rid of oxygen\n",
    "    comp_dict = {key: value for key, value in comp_dict.items()\n",
    "                 if 'O' not in key}\n",
    "    \n",
    "    # from mass to percentage\n",
    "    comp_dict = {key: value / sum(comp_dict.values()) * 100 for key, value\n",
    "                 in comp_dict.items()}\n",
    "\n",
    "    return comp_dict"
   ]
  },
  {
   "cell_type": "code",
   "execution_count": 4,
   "metadata": {},
   "outputs": [],
   "source": [
    "def show_fracs(comp_dict, search_list=[]):\n",
    "    filtered_dict = {}\n",
    "    for key, val in comp_dict.items():\n",
    "        if val < 1e-5:\n",
    "            continue\n",
    "        if len(search_list) > 1:\n",
    "            for keyword in search_list:\n",
    "                if keyword.upper() in key:\n",
    "                    filtered_dict[key] = val\n",
    "        else:\n",
    "            filtered_dict[key] = val\n",
    "    return filtered_dict"
   ]
  },
  {
   "cell_type": "code",
   "execution_count": 5,
   "metadata": {},
   "outputs": [],
   "source": [
    "def get_am_pu(filtered_dict):\n",
    "    am_pu = 0\n",
    "    for key, val in filtered_dict.items():\n",
    "        if 'AM' in key or 'PU' in key:\n",
    "            am_pu += val\n",
    "    return am_pu"
   ]
  },
  {
   "cell_type": "code",
   "execution_count": 6,
   "metadata": {},
   "outputs": [],
   "source": [
    "def main(file_list):\n",
    "    data = {}\n",
    "    for file in file_list:\n",
    "        comp_dict = get_comp_dict(file)\n",
    "#        frac_dict = show_fracs(comp_dict, ['U', 'NP', 'PU', 'AM'])\n",
    "        frac_dict = show_fracs(comp_dict,['U', 'PU', 'NP', 'AM'])\n",
    "        am_pu = get_am_pu(frac_dict)\n",
    "        filename = file.split('/')[-1]\n",
    "        filename = filename.split('.csv')[0]\n",
    "        data.update({filename:{'fraction': frac_dict, 'AM+PU': am_pu}})\n",
    "    return data"
   ]
  },
  {
   "cell_type": "code",
   "execution_count": 7,
   "metadata": {},
   "outputs": [],
   "source": [
    "from os import listdir\n",
    "from os.path import isfile, join\n",
    "file_list = [f for f in listdir('./results') if isfile(join('./results', f))]\n",
    "file_list =['./results/' + x for x in file_list]"
   ]
  },
  {
   "cell_type": "code",
   "execution_count": 8,
   "metadata": {},
   "outputs": [],
   "source": [
    "data = main(file_list)"
   ]
  },
  {
   "cell_type": "code",
   "execution_count": 9,
   "metadata": {},
   "outputs": [],
   "source": [
    "# show all \n",
    "def show_data(data, must_word=''):\n",
    "    for key, val in data.items():\n",
    "        if must_word not in key:\n",
    "            continue\n",
    "        print('=========================')\n",
    "        print(key)\n",
    "        for key2, val2 in val.items():\n",
    "            if key2 == 'fraction':\n",
    "                for key3, val3 in val2.items():\n",
    "                    print('%s = %f' %(key3, val3))\n",
    "            else:\n",
    "                print('%s = %f' %(key2, val2))\n",
    "        print('=========================')\n",
    "        print('\\n')\n"
   ]
  },
  {
   "cell_type": "code",
   "execution_count": 10,
   "metadata": {},
   "outputs": [
    {
     "data": {
      "text/plain": [
       "\"\\n        if key in file_list:\\n            array = np.zeros(len(iso_list) + 1)\\n            for key2, val2 in  val['fraction'].items():\\n                if key2 in iso_list:\\n                    indx = iso_list.index(key2)\\n                    array[indx] = val2\\n            array[-1] = val['AM+PU']\\n            result = np.hstack((result, np.vstack(array)))\\n    df = pd.DataFrame(result)\\n    df.to_csv(outputfile)\\n\""
      ]
     },
     "execution_count": 10,
     "metadata": {},
     "output_type": "execute_result"
    }
   ],
   "source": [
    "import pandas as pd \n",
    "\n",
    "def make_csv(data, file_list, iso_list, outputfile):\n",
    "    result = np.vstack(iso_list + ['Am+Pu'])\n",
    "    for file in file_list:\n",
    "        array = np.zeros(len(iso_list) + 1)\n",
    "        for key2, val2 in data[file]['fraction'].items():\n",
    "            if key2 in iso_list:\n",
    "                indx = iso_list.index(key2)\n",
    "                array[indx] = val2\n",
    "        array[-1] = data[file]['AM+PU']\n",
    "        result = np.hstack((result, np.vstack(array)))\n",
    "    df = pd.DataFrame(result)\n",
    "    df.to_csv(outputfile)\n",
    "        \n",
    "\"\"\"\n",
    "        if key in file_list:\n",
    "            array = np.zeros(len(iso_list) + 1)\n",
    "            for key2, val2 in  val['fraction'].items():\n",
    "                if key2 in iso_list:\n",
    "                    indx = iso_list.index(key2)\n",
    "                    array[indx] = val2\n",
    "            array[-1] = val['AM+PU']\n",
    "            result = np.hstack((result, np.vstack(array)))\n",
    "    df = pd.DataFrame(result)\n",
    "    df.to_csv(outputfile)\n",
    "\"\"\""
   ]
  },
  {
   "cell_type": "code",
   "execution_count": 11,
   "metadata": {},
   "outputs": [],
   "source": [
    "\n",
    "make_csv(data, ['pu_ref_charge', 'source_1_charge', 'source_2_charge', 'source_3_charge'],\n",
    "         ['U235', 'U238', 'PU238', 'PU239', 'PU240', 'PU241', 'PU242', 'AM241'],\n",
    "         'mox_lwr_charge.csv')\n",
    "\n",
    "make_csv(data, ['pu_ref_discharge', 'source_1_discharge', 'source_2_discharge', 'source_3_discharge'],\n",
    "         ['U234', 'U235', 'U236', 'U238', 'Np237', 'PU236', 'PU238', 'PU239', 'PU240', 'PU241', 'PU242', 'AM241'],\n",
    "         'mox_lwr_discharge.csv')\n",
    "\n",
    "make_csv(data, ['sfr_ref_charge', 'sfr_1_charge', 'sfr_2_charge', 'sfr_3_charge'],\n",
    "         ['U235', 'U238', 'PU238', 'PU239', 'PU240', 'PU241', 'PU242', 'AM241'],\n",
    "         'sfr_charge.csv')\n",
    "\n",
    "make_csv(data, ['sfr_ref_discharge', 'sfr_ref_discharge_blanket', 'sfr_1_discharge', 'sfr_1_discharge_blanket',\n",
    "                'sfr_2_discharge', 'sfr_2_discharge_blanket', 'sfr_3_discharge', 'sfr_3_discharge_blanket'],\n",
    "         ['U234', 'U235', 'U236', 'U238', 'Np237', 'PU236', 'PU238', 'PU239', 'PU240', 'PU241', 'PU242', 'AM241'],\n",
    "         'sfr_discharge.csv')\n",
    "\n"
   ]
  },
  {
   "cell_type": "code",
   "execution_count": 12,
   "metadata": {},
   "outputs": [],
   "source": [
    "def csv_to_latex_table(csvfile, sfr_discharge=False):\n",
    "    with open(csvfile, 'r') as f:\n",
    "        lines = f.readlines()\n",
    "        lines = lines[1:]\n",
    "        columns = len(lines[0].split(',')) - 1\n",
    "        string = '\\t\\\\begin{tabular}{' + 'c'*columns + '}\\n'\n",
    "        string += '\\t\\t\\\\hline\\n'\n",
    "        if sfr_discharge:\n",
    "            string += '\\t\\t\\\\textbf{wt\\%} & \\\\textbf{ref driver} & \\\\textbf{ref blanket} & \\\\textbf{one driver} & \\\\textbf{one blanket} & \\\\textbf{two driver} & \\\\textbf{two blanket} & \\\\textbf{three driver} & \\\\textbf{three blanket} \\\\\\ '\n",
    "        else:\n",
    "            string += '\\t\\t\\\\textbf{wt\\%} & \\\\textbf{ref} & \\\\textbf{source one} & \\\\textbf{source two} & \\\\textbf{source three} \\\\\\ \\n'\n",
    "        string += '\\t\\t\\\\hline\\n'\n",
    "        for line in lines:\n",
    "            line = line.split(',')[1:]\n",
    "            string += '\\t\\t'\n",
    "            for indx, i in enumerate(line):\n",
    "                if indx == len(line) - 1:\n",
    "                    string += str(i)[:5].replace('\\n','') + ' \\\\\\ \\n'\n",
    "                else:\n",
    "                    string += str(i)[:5] + ' & '\n",
    "        string += '\\t\\t\\hline \\n'\n",
    "        string += '\\t\\end{tabular} \\n'\n",
    "        print(string)\n",
    "    \n",
    "    with open(csvfile.replace('.csv','.tex'), 'w') as w:\n",
    "        w.write(string)"
   ]
  },
  {
   "cell_type": "code",
   "execution_count": 13,
   "metadata": {},
   "outputs": [
    {
     "name": "stdout",
     "output_type": "stream",
     "text": [
      "\t\\begin{tabular}{ccccc}\n",
      "\t\t\\hline\n",
      "\t\t\\textbf{wt\\%} & \\textbf{ref} & \\textbf{source one} & \\textbf{source two} & \\textbf{source three} \\\\ \n",
      "\t\t\\hline\n",
      "\t\tU235 & 0.221 & 0.221 & 0.221 & 0.221 \\\\ \n",
      "\t\tU238 & 92.77 & 92.77 & 92.77 & 92.77 \\\\ \n",
      "\t\tPU238 & 0.138 & 0.218 & 0.200 & 0.279 \\\\ \n",
      "\t\tPU239 & 4.357 & 3.611 & 3.289 & 2.697 \\\\ \n",
      "\t\tPU240 & 1.574 & 1.702 & 2.373 & 1.719 \\\\ \n",
      "\t\tPU241 & 0.559 & 0.822 & 0.317 & 1.112 \\\\ \n",
      "\t\tPU242 & 0.349 & 0.562 & 0.764 & 0.894 \\\\ \n",
      "\t\tAM241 & 0.018 & 0.082 & 0.053 & 0.296 \\\\ \n",
      "\t\tAm+Pu & 6.999 & 6.999 & 6.999 & 6.999 \\\\ \n",
      "\t\t\\hline \n",
      "\t\\end{tabular} \n",
      "\n",
      "\t\\begin{tabular}{ccccc}\n",
      "\t\t\\hline\n",
      "\t\t\\textbf{wt\\%} & \\textbf{ref} & \\textbf{source one} & \\textbf{source two} & \\textbf{source three} \\\\ \n",
      "\t\t\\hline\n",
      "\t\tU234 & 0.002 & 0.002 & 0.003 & 0.005 \\\\ \n",
      "\t\tU235 & 0.117 & 0.108 & 0.099 & 0.099 \\\\ \n",
      "\t\tU236 & 0.023 & 0.024 & 0.026 & 0.026 \\\\ \n",
      "\t\tU238 & 90.51 & 89.89 & 89.85 & 89.86 \\\\ \n",
      "\t\tNp237 & 0.0 & 0.0 & 0.0 & 0.0 \\\\ \n",
      "\t\tPU236 & 0.0 & 0.0 & 0.0 & 0.0 \\\\ \n",
      "\t\tPU238 & 0.120 & 0.205 & 0.170 & 0.320 \\\\ \n",
      "\t\tPU239 & 2.255 & 2.175 & 1.836 & 1.760 \\\\ \n",
      "\t\tPU240 & 1.629 & 1.457 & 1.638 & 1.353 \\\\ \n",
      "\t\tPU241 & 0.862 & 0.910 & 0.953 & 0.863 \\\\ \n",
      "\t\tPU242 & 0.436 & 0.549 & 0.700 & 0.814 \\\\ \n",
      "\t\tAM241 & 0.059 & 0.078 & 0.069 & 0.116 \\\\ \n",
      "\t\tAm+Pu & 5.486 & 5.592 & 5.611 & 5.526 \\\\ \n",
      "\t\t\\hline \n",
      "\t\\end{tabular} \n",
      "\n",
      "\t\\begin{tabular}{ccccc}\n",
      "\t\t\\hline\n",
      "\t\t\\textbf{wt\\%} & \\textbf{ref} & \\textbf{source one} & \\textbf{source two} & \\textbf{source three} \\\\ \n",
      "\t\t\\hline\n",
      "\t\tU235 & 0.199 & 0.199 & 0.199 & 0.199 \\\\ \n",
      "\t\tU238 & 83.83 & 83.83 & 83.83 & 83.83 \\\\ \n",
      "\t\tPU238 & 0.076 & 0.466 & 0.530 & 0.633 \\\\ \n",
      "\t\tPU239 & 9.400 & 7.715 & 7.188 & 7.859 \\\\ \n",
      "\t\tPU240 & 5.426 & 5.071 & 5.415 & 3.923 \\\\ \n",
      "\t\tPU241 & 0.405 & 0.678 & 0.725 & 1.939 \\\\ \n",
      "\t\tPU242 & 0.538 & 1.861 & 1.988 & 1.489 \\\\ \n",
      "\t\tAM241 & 0.122 & 0.176 & 0.122 & 0.123 \\\\ \n",
      "\t\tAm+Pu & 15.97 & 15.97 & 15.97 & 15.97 \\\\ \n",
      "\t\t\\hline \n",
      "\t\\end{tabular} \n",
      "\n",
      "\t\\begin{tabular}{ccccccccc}\n",
      "\t\t\\hline\n",
      "\t\t\\textbf{wt\\%} & \\textbf{ref blanket} & \\textbf{ref driver} & \\texbf{one blanket} & \\textbf{one driver} & \\textbf{two blanket} & \\textbf{two driver} & \\textbf{three blanket} & \\textbf{three drive} \\\\ \t\t\\hline\n",
      "\t\tU234 & 0.002 & 0.003 & 0.012 & 0.012 & 0.013 & 0.013 & 0.017 & 0.017 \\\\ \n",
      "\t\tU235 & 0.092 & 0.061 & 0.090 & 0.058 & 0.088 & 0.057 & 0.094 & 0.063 \\\\ \n",
      "\t\tU236 & 0.020 & 0.031 & 0.021 & 0.032 & 0.021 & 0.032 & 0.019 & 0.031 \\\\ \n",
      "\t\tU238 & 76.66 & 73.40 & 76.30 & 72.79 & 76.18 & 72.61 & 76.72 & 73.53 \\\\ \n",
      "\t\tNp237 & 0.0 & 0.0 & 0.0 & 0.0 & 0.0 & 0.0 & 0.0 & 0.0 \\\\ \n",
      "\t\tPU236 & 0.0 & 0.0 & 0.0 & 0.0 & 0.0 & 0.0 & 0.0 & 0.0 \\\\ \n",
      "\t\tPU238 & 0.072 & 0.100 & 0.267 & 0.286 & 0.284 & 0.296 & 0.368 & 0.386 \\\\ \n",
      "\t\tPU239 & 8.415 & 10.01 & 7.684 & 9.503 & 7.461 & 9.342 & 7.783 & 9.559 \\\\ \n",
      "\t\tPU240 & 4.692 & 5.851 & 4.310 & 5.429 & 4.515 & 5.609 & 3.519 & 4.605 \\\\ \n",
      "\t\tPU241 & 0.485 & 0.816 & 0.537 & 0.819 & 0.569 & 0.859 & 0.841 & 0.928 \\\\ \n",
      "\t\tPU242 & 0.479 & 0.566 & 1.521 & 1.601 & 1.615 & 1.698 & 1.316 & 1.431 \\\\ \n",
      "\t\tAM241 & 0.152 & 0.159 & 0.201 & 0.186 & 0.180 & 0.174 & 0.300 & 0.245 \\\\ \n",
      "\t\tAm+Pu & 14.34 & 17.59 & 14.67 & 18.10 & 14.78 & 18.27 & 14.24 & 17.38 \\\\ \n",
      "\t\t\\hline \n",
      "\t\\end{tabular} \n",
      "\n"
     ]
    }
   ],
   "source": [
    "csv_to_latex_table('mox_lwr_charge.csv')\n",
    "csv_to_latex_table('mox_lwr_discharge.csv')\n",
    "csv_to_latex_table('sfr_charge.csv')\n",
    "csv_to_latex_table('sfr_discharge.csv', True)"
   ]
  },
  {
   "cell_type": "code",
   "execution_count": 14,
   "metadata": {
    "scrolled": false
   },
   "outputs": [
    {
     "name": "stdout",
     "output_type": "stream",
     "text": [
      "=========================\n",
      "source_3_charge_ff\n",
      "U235 = 0.221340\n",
      "U238 = 92.778666\n",
      "PU238 = 0.200900\n",
      "PU239 = 3.289297\n",
      "PU240 = 2.373698\n",
      "PU241 = 0.317800\n",
      "PU242 = 0.764399\n",
      "AM241 = 0.053900\n",
      "AM+PU = 6.999994\n",
      "=========================\n",
      "\n",
      "\n",
      "=========================\n",
      "source_3_discharge_ff\n",
      "U234 = 0.004056\n",
      "U235 = 0.221589\n",
      "U236 = 0.000658\n",
      "U238 = 92.779208\n",
      "NP237 = 0.000307\n",
      "PU238 = 0.196659\n",
      "PU239 = 3.289062\n",
      "PU240 = 2.373037\n",
      "PU241 = 0.279070\n",
      "PU242 = 0.764400\n",
      "AM241 = 0.091954\n",
      "AM+PU = 6.994181\n",
      "=========================\n",
      "\n",
      "\n",
      "=========================\n",
      "source_3_charge\n",
      "U235 = 0.221340\n",
      "U238 = 92.778666\n",
      "PU238 = 0.280000\n",
      "PU239 = 2.697098\n",
      "PU240 = 1.719198\n",
      "PU241 = 1.112999\n",
      "PU242 = 0.894599\n",
      "AM241 = 0.296100\n",
      "AM+PU = 6.999994\n",
      "=========================\n",
      "\n",
      "\n",
      "=========================\n",
      "source_3_discharge\n",
      "RU103 = 0.007070\n",
      "RU105 = 0.000028\n",
      "RU106 = 0.039796\n",
      "EU154 = 0.007440\n",
      "EU155 = 0.001924\n",
      "EU156 = 0.000686\n",
      "U234 = 0.005245\n",
      "U235 = 0.099203\n",
      "U236 = 0.026581\n",
      "U237 = 0.000288\n",
      "U238 = 89.869023\n",
      "U239 = 0.000065\n",
      "NP237 = 0.019968\n",
      "NP238 = 0.000049\n",
      "NP239 = 0.009426\n",
      "PU238 = 0.320432\n",
      "PU239 = 1.760305\n",
      "PU240 = 1.353481\n",
      "PU241 = 0.863595\n",
      "PU242 = 0.814439\n",
      "PU243 = 0.000141\n",
      "PU244 = 0.000097\n",
      "AM241 = 0.116600\n",
      "AM242 = 0.000175\n",
      "AM242(1) = 0.001806\n",
      "AM243 = 0.294926\n",
      "AM244 = 0.000014\n",
      "RU100 = 0.015753\n",
      "RU101 = 0.112628\n",
      "RU102 = 0.128253\n",
      "RU104 = 0.122644\n",
      "EU153 = 0.021913\n",
      "AM+PU = 5.526011\n",
      "=========================\n",
      "\n",
      "\n"
     ]
    }
   ],
   "source": [
    "show_data(data, 'source_3')"
   ]
  },
  {
   "cell_type": "markdown",
   "metadata": {},
   "source": [
    "## major errors spotted:\n",
    "1. The charge fuel composition does not change\n",
    "    * the Pu composition changes, obviously becasue the input stream is different.\n",
    "    * but the U composition does not, which means that the fuel fabrication is mixing the fuel at the same ratio\n",
    "        * Maybe it's a cross section thing, so I tried using CASMO mox cross section file, still the same.\n",
    "    * EFMC doesn't work?\n",
    "2. The SFR fuel cross sections need to be averaged\n",
    "    * using the blanket cross sections **overbreed** the Pu+MA\n",
    "    * using the driver cross sections **deplete** the Pu+MA\n",
    "    * the average between the two results are similar to the excel results provided"
   ]
  },
  {
   "cell_type": "code",
   "execution_count": null,
   "metadata": {},
   "outputs": [],
   "source": []
  }
 ],
 "metadata": {
  "kernelspec": {
   "display_name": "Python 3",
   "language": "python",
   "name": "python3"
  },
  "language_info": {
   "codemirror_mode": {
    "name": "ipython",
    "version": 3
   },
   "file_extension": ".py",
   "mimetype": "text/x-python",
   "name": "python",
   "nbconvert_exporter": "python",
   "pygments_lexer": "ipython3",
   "version": "3.6.5"
  }
 },
 "nbformat": 4,
 "nbformat_minor": 2
}
